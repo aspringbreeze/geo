{
 "cells": [
  {
   "cell_type": "markdown",
   "id": "e31e1cf3",
   "metadata": {},
   "source": [
    "# Connected sqlite database and python."
   ]
  },
  {
   "cell_type": "code",
   "execution_count": 1,
   "id": "be5e01f4",
   "metadata": {},
   "outputs": [],
   "source": [
    "import sqlite3\n",
    "import pandas as pd"
   ]
  },
  {
   "cell_type": "code",
   "execution_count": 2,
   "id": "0a124ab3",
   "metadata": {},
   "outputs": [],
   "source": [
    "sql_connect = sqlite3.connect('geo_project.db')"
   ]
  },
  {
   "cell_type": "code",
   "execution_count": 3,
   "id": "135d65d9",
   "metadata": {},
   "outputs": [],
   "source": [
    "cursor = sql_connect.cursor()"
   ]
  },
  {
   "cell_type": "markdown",
   "id": "ee872200",
   "metadata": {},
   "source": [
    "Ask user to import destination."
   ]
  },
  {
   "cell_type": "code",
   "execution_count": 4,
   "id": "b439693e",
   "metadata": {},
   "outputs": [
    {
     "name": "stdout",
     "output_type": "stream",
     "text": [
      "Enter the latitude and longtitude(eg: 100,50): 30,-80\n"
     ]
    }
   ],
   "source": [
    "location = input(\"Enter the latitude and longtitude(eg: 100,50): \")"
   ]
  },
  {
   "cell_type": "code",
   "execution_count": 5,
   "id": "d33fef64",
   "metadata": {},
   "outputs": [
    {
     "name": "stdout",
     "output_type": "stream",
     "text": [
      "30,-80\n"
     ]
    }
   ],
   "source": [
    "print(location)"
   ]
  },
  {
   "cell_type": "code",
   "execution_count": 6,
   "id": "c7652bc6",
   "metadata": {},
   "outputs": [],
   "source": [
    "x, y = location.split(',')"
   ]
  },
  {
   "cell_type": "code",
   "execution_count": 7,
   "id": "4ccddf6f",
   "metadata": {},
   "outputs": [
    {
     "name": "stdout",
     "output_type": "stream",
     "text": [
      "30 -80\n",
      "<class 'str'>\n"
     ]
    }
   ],
   "source": [
    "print(x, y)\n",
    "print(type(x))"
   ]
  },
  {
   "cell_type": "code",
   "execution_count": 8,
   "id": "30b7a2a9",
   "metadata": {},
   "outputs": [],
   "source": [
    "latitude = int(x)\n",
    "longtitude = int(y)"
   ]
  },
  {
   "cell_type": "markdown",
   "id": "7426d41b",
   "metadata": {},
   "source": [
    "# Install the package to calculate the distance between two locations using latitude and longtitude."
   ]
  },
  {
   "cell_type": "code",
   "execution_count": 9,
   "id": "da1d9766",
   "metadata": {},
   "outputs": [
    {
     "name": "stderr",
     "output_type": "stream",
     "text": [
      "Traceback (most recent call last):\n",
      "  File \"F:\\python\\lib\\runpy.py\", line 196, in _run_module_as_main\n",
      "    return _run_code(code, main_globals, None,\n",
      "  File \"F:\\python\\lib\\runpy.py\", line 86, in _run_code\n",
      "    exec(code, run_globals)\n",
      "  File \"F:\\python\\Scripts\\pip.exe\\__main__.py\", line 4, in <module>\n",
      "ModuleNotFoundError: No module named 'pip'\n"
     ]
    }
   ],
   "source": [
    "!pip install haversine"
   ]
  },
  {
   "cell_type": "markdown",
   "id": "2325b9be",
   "metadata": {},
   "source": [
    "# Using pandas to import the location data."
   ]
  },
  {
   "cell_type": "code",
   "execution_count": 10,
   "id": "fdb1b19e",
   "metadata": {},
   "outputs": [],
   "source": [
    "query = \"\"\"select name, latitude, longtitude\n",
    "           from restaurant r;\"\"\""
   ]
  },
  {
   "cell_type": "code",
   "execution_count": 11,
   "id": "49f7a7d0",
   "metadata": {},
   "outputs": [],
   "source": [
    "results = cursor.execute(query).fetchall()"
   ]
  },
  {
   "cell_type": "code",
   "execution_count": 12,
   "id": "8dd93580",
   "metadata": {},
   "outputs": [
    {
     "name": "stdout",
     "output_type": "stream",
     "text": [
      "[('cws4yveais\\t8', 39, -89), ('7u5\\t3h2p9 df3kx5', 45, -114), ('wxxk8kz99rfbcxix', 39, -105), ('lhe w64w5x4', 32, -99), ('boei0t2dc9c5ag\\t', 45, -98), ('4f20', 31, -105), ('8vuqnmnc3kfmpvvv', 43, -74), ('k9s\\n', 30, -123), ('4nwme20f6gj8x', 37, -86), ('iv95jk\\tul bfq6b', 34, -82), ('yutrrdg', 35, -93), ('ag59o764yvcbrmrzg', 40, -114), ('qcijin7kdk5134ix', 28, -122), ('nxja\\n5d0w 2g', 42, -71), ('3iskn 7zlazw6zx 3f', 46, -76), ('b5w\\n', 33, -110), ('g0\\t7hh3xsehqm', 36, -90), ('5z1miwi7n', 47, -86), ('n2e427', 41, -74), ('86 4ymql0tl2gprb', 30, -88), ('3 ndj3oft', 32, -117), ('fhchpc', 45, -105), ('pphtgbvux77fko\\nex8w', 27, -121), ('7i90v5pfeg\\t\\t0\\n', 26, -111), ('97ey6 km6nv\\nhmzx1i', 43, -95), ('t20yseph', 35, -80), ('j8ur', 40, -97), ('g\\tez0gnmws3sszx\\tl383', 29, -85), ('nzjm6cnit', 29, -112), ('j2lnjuc1\\trxa9ein4mz', 43, -102), ('bxrg6gjrwu2vlh', 48, -92), ('42x17ob6qs6', 37, -100), ('5j\\n8eo8 ', 35, -119), ('ju2b7nj\\ndm1p29aze5', 30, -121), ('19\\n9', 27, -92), ('494ar1', 34, -74), ('2zg raanp9uje4q3 r', 31, -84), ('z\\n5dxe\\t01akcrdo', 26, -118), ('036 khykkm5ht5htp', 40, -104), ('g9t83i', 48, -94), ('yb3q6ns922376l5s\\ttd', 47, -118), ('9w\\nyys8', 35, -123), ('98ksgnuf\\ts\\taa', 30, -79), ('6nlu2', 45, -101), ('shuc74b', 44, -106), ('j1y1kte', 46, -94), ('dxw8zh1mg6e', 48, -82), ('8w pfyn', 32, -115), ('ejpi0h m8\\nbcie2ry', 34, -110), ('72m91e', 26, -84), (' wbts\\t', 28, -117), ('6d\\nd4fucmtyuf\\n47', 36, -89), ('6icty', 28, -96), ('7z6v1rxlv\\tv', 43, -85), (' 1cb6spppe6h14foad', 29, -108), ('zwq\\tmwtbraw9\\t93wj', 33, -81), ('wv6jqmk5e6kx6', 36, -75), ('277wghk5x\\tqwy6uma', 35, -95), ('w0mdck4dmq', 28, -74), ('et5qf\\t', 38, -105), ('jlqwhv', 38, -120), ('n6grwnazwr', 30, -98), ('63fu', 39, -105), ('27a\\t731', 29, -114), ('qsty9', 33, -108), ('ra\\n1rfotj8top\\nbzf ', 39, -80), ('86ue1wdqu\\t', 48, -98), ('9bcgn8i xxx3\\nt', 38, -92), ('oyuqhd', 42, -86), ('0 x7x4a9i3', 37, -86), ('k8la3 mhvewwyv5', 45, -107), ('ycp233', 46, -87), ('gcfa qva8hvvbq', 29, -79), ('mla2y05', 40, -92), ('0zzjnmkrpe', 39, -103), ('ii 7pint4d2', 36, -79), ('p\\n\\t0hzrkk\\nrh', 48, -84), ('5nc\\t2b2xy n7', 47, -82), ('4\\nm6', 42, -105), ('b4uj \\nix0w', 36, -85), ('sbt\\tn', 39, -87), ('en0o4 p1\\t9g\\n6kwn3\\t', 32, -74), ('jbpjqm009', 28, -109), ('p86a', 35, -82), ('vzfwzm6tis3ylcr2gtkd', 43, -79), ('3cg78p4uutmj', 46, -83), ('oc034se1', 41, -99), ('zjzy1gytuas3cml70k\\n', 41, -73), ('bnlh', 31, -99), ('0uadk', 44, -106), ('xxnn7m', 46, -96), ('uci\\nakidq8qn4esrbg', 41, -101), ('jrwgw9pod', 48, -113), ('d4c1kdqm', 43, -100), ('v\\tk\\tkqoz4', 38, -88), ('mhf\\n', 28, -86), ('d04gndbsnv', 34, -99), ('f6 yw5rdf7s', 38, -98), ('\\tt43azhd61dggjul', 42, -107), ('uaqvcr4i\\nx27 is', 33, -115), ('2c7agpuqlbeh', 48, -83), ('udq34 sxoi1 j27j', 26, -115), ('qsh32 7', 27, -110), ('\\tb7i\\tg9dosq\\n', 32, -108), ('zbgzs', 37, -90), ('f0fsywv0kfmcuk\\nhdai', 41, -80), ('lmjg9ef1rav2\\t', 29, -110), ('r3\\tjfxkmg3drj6\\ne6y7v', 30, -73), ('qweuiz', 44, -112), ('ubhs', 44, -87), ('kexieb9oj', 46, -110), ('\\t\\toi ', 40, -121), ('dh62568g27ue1t6', 42, -86), ('gh\\nhl', 43, -109), ('98it97p\\ton9pq', 46, -118), ('4a4ro65q1ayhsf', 29, -92), ('0tyrx8gpoxypq1\\t', 29, -99), ('nhf3zkxx88uhjq1tq', 27, -97), ('vf kvu0cjewhxg6q3tak', 31, -71), ('wz9aunx498a qs', 42, -90), ('0 00', 36, -110), ('fxj2vu bg8w8wlm5', 40, -89), ('8 t8c d5rgw', 29, -100), ('r12l', 32, -109), ('kx1f', 38, -81), ('ppe4j232', 42, -108), ('y0olo', 36, -79), ('tuvexj\\t29qn2ybptf8e', 44, -102), ('y7 hhqt', 31, -88), ('\\nz4x68dwdag7kvzjqj0r', 30, -78), ('pvg6\\n\\ty96 kqk5ak0jao', 26, -94), ('bl\\nis 732icb', 47, -105), ('t9tnh\\t\\tp', 48, -97), ('y041ramn3n9\\nnv', 38, -81), ('i\\tordlr', 39, -97), ('\\nok q2', 37, -101), ('83mw\\n516d1n\\t', 41, -94), ('ufun7s', 27, -85), ('g4mo8kdu 1yo1mhr', 40, -96), ('7f ic\\t1jp\\t', 35, -85), ('5\\t4u\\t5 v0\\nu\\n', 44, -88), ('utesj2 5', 37, -97), ('d\\tlb82lysl7bc00nnzg', 33, -77), ('sv7sulqo\\tu2x44k7q0w2', 27, -88), ('428\\nm1x', 31, -112), ('ah821zjq9b74t oemfv', 46, -88), ('uuo3vdqhz\\njkrj0m5g', 47, -113), ('twsiappenwr5s4\\tgvb0', 37, -109), ('e2\\nft7\\tartdhma\\n', 39, -119), ('0w i7cv1m3o0dp', 26, -87), ('b\\tmt552d6z', 41, -88), ('f0hxyw2ppgoj', 32, -83), ('22r1', 39, -80), ('4qz10mipw', 33, -100), ('9mp0ul6nb\\n', 41, -74), (' 2c\\tbxvz55bqh 5z3yyt', 48, -92), ('o f38v4mma3ui', 46, -113), ('\\nso51la  9\\ns4k11i', 38, -96), ('myh24rwlvtos\\t5myvdav', 44, -94), ('k73ny0z g ve7vg4eas', 31, -83), ('0rg0bmz8r3qct2c', 38, -82), ('g1ixtz', 29, -97), ('7uc8\\td592k\\n', 36, -106), ('4lhvg', 30, -90), ('5vmwt18rs31si1x', 39, -77), ('7b221v5rmgv', 48, -74), (' eb1yz2homb862m', 40, -75), ('k p7u\\n\\n', 32, -104), ('at 4d2hzgruxcram', 37, -88), ('9aat 67fs9ouwcu\\t', 30, -71), ('1ndqla', 37, -95), ('2d h\\nl26 k3j 4g', 38, -119), ('ddtzxrl9dk3 u7di5\\ne3', 47, -75), ('z3wnyu26ai', 35, -94), ('h\\nx4e2jx2oln9aio', 35, -99), ('okbax\\nrp', 34, -93), ('bcw2cc', 40, -122), ('\\nlus7f grb1o0\\nmj', 36, -76), ('w\\njijtwqgah1ocjt7dgq', 38, -76), ('9vwoci', 47, -91), ('xsnc', 47, -108), ('iserj', 36, -98), ('aenmsrdoat1v2', 39, -108), ('3y4hj9f00f', 44, -102), ('\\njfrk3n7m46ijxf', 42, -113), ('55v8sk2yl', 34, -95), ('sp\\n3m', 31, -123), ('aay1oe6xm25xagxj', 40, -117), ('ljkr0xpsw8ijq', 45, -107), ('qdlf n8o\\thz1cmk', 32, -104), ('ivt6dptu', 31, -100), ('yp9 7at0sxa7yw\\ne68bg', 41, -93), ('j0d8qdv\\nsvu\\n', 41, -82), ('u s45', 47, -102), ('2t99', 47, -84), ('cg9\\t', 42, -97), ('\\tps439sdt7k7vsd ', 28, -79), ('h2cvp\\tgr', 37, -111), ('ulk 0\\t\\tuf3o69\\th1v', 43, -97), ('jd9a2a8bgklfza2', 39, -94), ('7eof9', 30, -104), ('ap5qd6j', 26, -99), ('h81c1kxtt6lybm9ju55r', 39, -111), ('\\ty2os7sn', 44, -90), ('cqwv2vtnxzm8yhy\\t\\tzvn', 28, -108), ('wq lvxkic2qwimz0ub0', 43, -89), ('eiqojouuh4o 5ov', 27, -109), ('s0q b3f', 45, -87), ('fyp tbz3ry \\t apj', 44, -73), ('k\\n\\trn57', 33, -103), ('3sac5q4ovcw', 30, -120), ('kq0i\\n0o8', 30, -72), ('sd5r', 36, -84), ('srbjn7fqg2oj3 k n8ec', 36, -105), ('yel426y497\\nk4woito', 31, -82), ('3a2isiybn\\n11 ta g', 48, -84), ('qhcb3xtwezq\\t97', 28, -80), ('8jwvklmnph0kush', 29, -99), ('hhnu52er8i14n2b', 35, -75), ('u01sn3i4wg2fuax', 30, -76), ('2qpw4t', 38, -91), ('99xop\\nav64c', 44, -97), ('66mfjm', 40, -83), ('w047', 40, -80), ('37cacl6wmdgp', 46, -120), ('r2 q1j', 28, -87), ('izyt\\t3hghg49wej', 28, -109), ('gke0yi3vft\\nc\\t', 47, -77), ('ws45ay8s83fu', 35, -79), ('qp\\nt k8dtn797d dldv', 45, -79), ('314g70', 44, -84), ('\\to45bdwh', 45, -88), ('y lz3j0qr\\n', 41, -113), ('nus7i\\nixg wahn', 38, -86), ('wefndl7u', 26, -80), ('d5sybtryup6hi7me', 36, -74), ('hk3hw0e63whlmffl', 45, -122), ('5b2nj7y6sxtepuk', 40, -81), ('wzs4w1yqvewiqov8wsja', 46, -76), ('8x9ih4rt2q hr8', 41, -82), ('bja\\n uh gvd', 48, -85), ('vmk7cy\\t56', 40, -84), ('9ja15b8m4bur\\t', 28, -78), ('gl0ox afuk\\nwh', 33, -106), ('90je7 ib843ni74\\np0v7', 34, -120), ('0i3m', 32, -78), ('\\njn2ym12neud\\nyd', 44, -93), ('cxgcct5j5hi7ry\\nd', 48, -110), ('3vnrf8m', 35, -103), ('m6qqgoaltqnvpkulm6', 26, -78), ('rjg867wpdbi', 44, -98), ('2s\\t6x\\tge3zxr9poa\\na', 30, -84), ('98venmk8o19d0q2', 32, -89), ('atxsiht ', 43, -123), ('k9zwiw7pdhlvdmf', 29, -92), ('qxw5', 45, -105), ('\\nfgfl6cp30iuey', 47, -113), ('7yq1j50\\n6ck13dw6', 46, -83), ('54e98qhdhalnv', 28, -97), ('m6ihqprkg d2kxmq', 31, -116), ('iekmcshsyug ncsz', 29, -96), ('r5\\tudbwu h', 46, -76), ('2f13', 48, -90), ('xgaafnlgdvjpun', 39, -96), ('lk er0r6hyrwcj6', 43, -87), ('e\\t19216 n7ixkfn ', 46, -101), ('q\\tbie', 48, -106), ('u\\nywo2id \\t52ze883t9k', 26, -110), ('d3jdjj8x5', 35, -110), ('7r2u', 48, -78), ('xof4yc5d9e', 48, -90), ('j37ee x8ejp75b', 36, -119), ('d ytzrmjzwl\\ttzz664y', 31, -71), ('frv\\tzxxd2b29kdym\\tz', 37, -117), ('iol83flwrmc4lpycf', 30, -117), ('iut3symh\\tyl6yoza', 44, -115), ('6tayn20ow7\\nfajm', 36, -102), ('mi7\\nqh8p1x7ewnov7os ', 37, -103), ('3gu1d7r73dourbrv', 35, -87), ('6jmpo9', 35, -98), ('hjd\\t9\\tr\\th4ifzr', 28, -100), ('afnv2e ', 31, -90), ('\\tok1kflj76v', 40, -121), ('98gzw', 33, -86), ('nsxt739y3d5xfh1\\nubz\\t', 45, -85), ('a0orzo5nbmfoo', 42, -87), ('60a\\teaycmwruvljx', 45, -94), ('i0y0r', 46, -108), ('p9gf\\toofmef3ycs', 46, -113), ('9b54bg252fu', 33, -89), ('xfvqdru\\nhu', 32, -108), ('\\nbaggdg55 g6qqwgx yq', 35, -86), ('8ud8i3scklxj', 43, -118), ('00s90\\n46', 47, -80), ('2xh bdc8av', 44, -89), ('2vtlxym 6 l\\tap', 27, -82), ('0bqajf', 37, -106), ('65akm', 32, -72), ('08opgml\\tz8', 44, -92), ('a\\tfv 0z6r2l', 44, -123), ('krfe7', 45, -84), ('6cjuupp4', 41, -104), ('ee pagjsngpv j', 38, -117), ('mtklaazcv 9\\t5giq7c', 37, -103), ('fusrbkc9 0w2ipxlc7', 30, -92), ('zrqmgda192j', 42, -78), ('ud7m2detuttd1f', 47, -109), ('nbuqa2', 36, -88), ('6ihdn0ad6jv ', 43, -80), ('7g k3w26ken\\tzx wheqq', 35, -93), ('3cczmq\\n\\toi', 39, -101), (' is\\ner26q2', 41, -106), ('z556rku4q6p0 3z6yrs8', 40, -91), ('da07x\\tos', 28, -71), ('g55qbk', 27, -121), ('r7g4u0wbte\\nxw2w', 41, -100), ('5ccb', 27, -106), ('\\ngv9lh7', 43, -80), ('i1h7jl\\npnjz7', 36, -117), ('du7wucln223o\\nnlt', 39, -101), ('7167', 29, -92), ('1b\\nntjw', 26, -115), ('add8j', 30, -115), ('mpp4uaaw87tei11ho', 38, -92), ('3595nceki 4roja', 28, -120), ('f 42579r4b4aghoa0g', 37, -99), ('d9b ', 36, -96), ('iqixoqes9v9\\nl', 41, -99), ('\\n0\\ny4d3stkf', 47, -123), ('sip2\\nop0hyaa', 29, -87), ('1o2m4h1we2', 42, -97), ('rh4eky9dx30ho ', 32, -114), ('b0bhe2noz146k050woyw', 30, -123), ('vn5bf44\\t\\neie1xb', 32, -74), ('52c6jxsqkcn824 ye', 35, -92), ('z\\nsgij77fynnd6kb', 29, -117), ('hg5goad ', 45, -86), ('xw\\t1\\tnjm95nfq\\n4 g6m', 33, -106), ('v6 g\\n zi8kcw', 45, -71), ('22l q15', 37, -116), ('\\txv07', 41, -86), ('i8jhf918yu6 uc16thm', 32, -94), ('xem\\tqx55cd', 29, -97), ('qdee7uol', 46, -104), ('cvuhau', 46, -114), ('\\tf7g', 48, -74), ('dyhgbi\\nlkmcn2akzev9w', 31, -111), ('hj\\twrc1j5akj18xv0 z\\n', 28, -121), ('o0q43gzyy', 27, -91), ('plrsdxzrmg5phay0a88', 43, -108), ('e\\nvq7vtyszk2', 28, -86), ('vvzw', 36, -99), ('4wosnpm6e6\\t9zjkk ', 48, -81), ('jbi\\n1a', 32, -82), ('f\\try 6\\njx8e', 47, -105), ('x41l018db', 47, -90), ('hhn7vv', 31, -102), ('t\\npytkhja0ho6j', 39, -117), ('xm3g9npx\\n3a06', 38, -105), ('9gnq\\ne29f3ay3my31m58', 29, -115), ('vwfuary', 46, -96), ('dwyp3yfc\\t9c10iorxmr', 44, -121), ('i1oq0cmqiz93uzx95rw\\t', 29, -108), ('8py10ju0v8', 40, -71), ('5z3n79z', 27, -117), ('s6 \\nexyzby6b s', 32, -71), ('f1c6j', 35, -105), ('wny5q\\n ddxlabkvr\\n702', 44, -86), ('rjfw2e0yun3vqs\\neaf4d', 35, -113), ('tclb1', 31, -83), ('cpxavopakmzsal9sf', 26, -78), ('puepyci\\ntz\\neat', 39, -121), ('dn0gz', 26, -97), ('\\ty0s9mj\\t48', 34, -103), ('7zl\\tx5fxfug1', 44, -96), ('\\thd07qvnx96mizkps', 27, -85), ('44xz9jy0art1oilzdif', 34, -85), ('u7xpa', 43, -101), ('waj 1dsrxcvq pk8\\ny', 33, -98), ('olt9gsnb1 w c6z 6', 37, -78), ('fht71qbtpeqc6 c7r', 30, -118), ('ljtaejyx4tbau', 26, -113), ('przv ', 38, -114), ('b7u8\\n', 42, -123), ('1jyx', 38, -103), ('b khfr7mp6', 48, -89), ('59kpc038ppxoz6fm', 46, -104), ('2bboyo7o76h tvye4', 28, -117), (' ibehfy1', 29, -80), ('fa3sr4rz0qq0', 33, -117), ('120pe', 39, -80), ('g\\n\\nlmowy55yj', 29, -88), ('7txnzaafztes', 42, -118), (' ui2hkgnajqegx1c4e\\n', 26, -84), ('2ftvifiniv4sns1j', 38, -123), ('zt55hgzm4f', 33, -115), ('t 0edungh\\tmmp5r', 39, -114), ('a2nna\\n1v1ij5rqg\\nau7', 42, -116), ('hg7\\n', 33, -90), ('3za71rio', 37, -114), ('h 9b1c', 42, -90), ('\\n \\n 1kbvw2259l\\nt', 43, -121), ('llhtqes7r7axvdvdz', 41, -91), ('dh8\\nooejpzwem', 46, -95), ('mfdd2vu\\n9sdr5bgh3', 38, -86), ('\\tb\\t381p291\\nnta3b', 47, -91), ('z j5', 31, -106), ('\\npouy7lhbhx15fe', 40, -92), ('n54b\\n', 32, -120), ('uskc5', 27, -75), ('5acse6ud0x2v', 46, -99), ('t0\\tzi082dcqmvm3ee', 40, -94), ('hhd64\\n72da\\tddxc\\t ch', 45, -104), ('mxqg\\tlbs09 d8k', 37, -103), ('iyp0', 26, -87), ('ykjq7c', 31, -80), ('tk5ica0h', 37, -108), ('oli56hh', 26, -74), (' ykrtym9pic7sj1wn', 43, -118), ('69070x2k24w5fokw6lmj', 47, -116), ('qwvhchba', 36, -101), ('dhyl', 41, -116), ('\\ntuwxrkwatjdguqfq\\tig', 33, -97), ('7cxxc5', 29, -80), ('imt8uw9aalb', 44, -90), ('b9xefw94fbpijg76', 27, -81), ('z1tzd\\tl\\ns0hfvn', 43, -101), ('ftain7v5urbjv', 30, -84), ('ook\\namhbt4q3qr17a8n1', 32, -121), ('e\\nrym', 35, -85), ('sozkgqmzix\\n7lb 7g0u', 32, -106), ('dck5jo0y', 30, -110), ('6\\tk4a\\nog7z1x2v', 32, -86), ('l\\nvwkoqmcxr919s', 41, -92), ('67r4xa7of', 29, -105), ('cv3n5fw t', 44, -72), ('12cvosrgl6ynb\\tk\\tyj5o', 39, -102), ('c5if8 vf6sh30h\\t3xu\\n2', 45, -96), ('01ynskb\\n7ofna71', 36, -84), ('hj53\\tvd8kg', 29, -78), ('9b1ht\\tkq', 46, -93), ('jkjh7w1z\\ngnx', 36, -108), ('d\\n8ywvx16dr', 44, -94), ('\\n9onq8x', 48, -73), ('zrzbcvuj92xu6', 26, -108), ('eoy\\tu\\nj6fsji04jb0962', 35, -92), ('k6\\nin413e', 44, -123), ('mdpw6yxd', 43, -93), ('t1w4b2o3', 48, -88), ('jdym0wlmz', 36, -81), ('qfk6w3isv', 31, -96), ('2bat0v', 29, -101), ('7r9vz', 46, -101), ('2\\nrzqwug', 36, -77), ('p6iegdlt 0ari', 36, -96), ('vb yopezj', 33, -87), ('ljgkjfdrc6 ixuw5', 40, -88), ('wsgodqgq5eagfc8cnmb', 36, -118), ('xfghcs8l', 45, -106), ('4lqz9x7', 29, -98), ('7jfjaadbm', 43, -87), ('b jixayin5g54\\td\\nuf3', 33, -108), ('kc nd3j oq', 33, -112), ('2okj0zw3t7gfdyqcq7mp', 29, -78), ('2j o37', 29, -85), ('run\\nqp\\tm6bjiqsh', 26, -80), ('pk1c z2ljjpj8hcm6t\\tq', 32, -97), ('u\\tpkmk61rgf\\n2fqrnis', 44, -76), ('rgroez73\\nb', 41, -90), ('s6m7c5wcp uha60i', 44, -82), ('82nocuza8b', 46, -78), ('f\\nwy465h\\t6', 30, -87), ('p18pay\\tl370d', 44, -81), ('bpe55', 43, -105), ('yhpz1yk\\tsc5tis', 43, -87), ('cokwd1mz4', 40, -111), ('y\\nlrjgsebxlavmhk', 34, -100), ('z\\n5v6kx ', 45, -73), ('tjn0shncw7quvuf4e1 ', 46, -123), ('0 t d41e6k9u7k', 34, -79), ('htl5fk\\n456gywh', 38, -93), ('3\\nbde5\\n\\tsxb 3', 35, -86), ('dl\\tnjn2xwgq\\t', 40, -108), ('hkona5awvd', 34, -100), ('7 \\t hyd6p8gxq', 30, -96), ('7qekh\\nd3ib9', 30, -83), ('zw\\tb b5zbr', 30, -75), ('6f\\tfvakv8', 30, -96), ('5 p5u34m98ntu5c3k1s7', 35, -71), ('cien\\ni xk3zgc6h5i43', 32, -116), ('32r3q', 45, -105), ('cpy91wy', 39, -123), (' q0k2\\t533lfuf', 46, -102), ('16pgek\\tulur68jn', 45, -101), ('\\npji5y', 35, -98), ('cf\\nw5ls2tjz985', 43, -87), ('l63n4', 33, -119), ('l0ken80', 32, -110), ('8yes8zroikene70e\\nnzi', 45, -89), ('nr87h802v6', 47, -73), ('\\nbk7w', 29, -84), ('\\nvp0svegozrxg80z', 27, -110), ('z zsilq4l\\t', 41, -121), ('\\nqt3m ', 48, -94), ('\\tihwbt4l6l2ztl4y\\n0qy', 45, -114), ('hemnskveyud4jbxec328', 30, -73), ('1qb4kqes6my\\twj5xtv', 35, -115), ('lgqrpxal17hv3', 42, -77), ('bkxwk6tdjz ', 31, -76), ('sj10xxx\\ny9', 40, -111), ('1ysn90uxjc0ya8m', 34, -121), ('\\trxc1', 32, -100), ('p3kf8r0e4s', 28, -81), ('qkkbmszrm9x', 36, -97), ('7j5r', 35, -74), ('n6a0wfxvpiz31', 34, -80), ('2mk3rq0', 36, -106), ('5ohvgsxvw053', 29, -109), ('xeemer', 33, -76), ('38wae', 37, -95), ('h8c\\no0u', 46, -86), ('\\nt4r7n8n60yu3\\tz8atne', 31, -90), ('819wi', 29, -115), ('71n81t ac', 30, -109), ('\\n19h eoe2d4k', 43, -123), ('113y5swdc\\t\\t2hgmp', 35, -95), ('f9j0\\n 15ze98t4', 42, -101), ('ew7gbuowrnai00vfvidh', 27, -85), ('9\\tagqw', 44, -95), ('ifzaatp0qmavi', 34, -77), ('jpp6d6x074ffdy', 28, -123), ('ahio31ze8iu', 26, -87), ('wcq7kr6v7wv', 37, -82), ('kcb7i0\\nms3o1alwj', 35, -81), ('kk4c8\\tekenf', 26, -119), ('z\\t5j', 34, -93), ('t850zc8yxslkw6j2e6\\n\\t', 40, -121), ('ceumyk\\tmplj7\\tdq95', 35, -94), ('f9wndr ztympba4g4', 32, -84), ('8m27hu6xj\\n5 ', 39, -104), (' ru7m5ylz\\nigs', 29, -87), ('fk1d68cd\\tkzp5\\n', 34, -96), ('fr93\\nh7u', 29, -71), ('7y6tp0\\tu', 28, -78), ('efm1\\t9x  gn70w', 48, -121), ('sx8\\tc\\t6cicv5a7s', 45, -90), ('or3hc1hrz22goe', 29, -77), ('mr\\tux93hv1cego', 43, -78), ('ekb70obb0\\taj', 38, -103), ('\\tmfv\\tc2ocgf4\\teuo', 33, -91), ('ml4t3g\\tl', 33, -93), ('5sj35ek19lob6ode3alr', 42, -106), ('3rjznw9c3', 33, -107), ('qb4f3vfhj2riu\\t', 32, -106), ('\\t8uvcpwnfrn', 40, -122), ('rvj8kixx9ru9k\\n0p', 39, -94), ('4ji09j3540\\t6mt2q', 31, -102), ('jikid9xz', 35, -74), ('99hr0gxoekjsz', 26, -115), ('\\tc4ll\\tpxoe1tb44j', 31, -88), ('6dlglouav', 47, -104), ('9f\\t7h0ns9ptt0j4z\\nqx', 32, -76), ('eqkr686ep', 39, -86), ('foi6dbea9aw2gc', 35, -72), ('e6jv ixppsffy8', 33, -95), ('eoh7\\tfujch7w\\nf795vd', 26, -110), ('xl8p06q9uc', 27, -85), ('ryy8o33k0', 33, -115), ('8u57\\tw0 focob', 41, -83), ('ms\\n2u7ti48\\t5n\\t0b', 44, -102), ('qiv ', 28, -84), ('ccniiomresd648 g\\n', 31, -78), ('i3yz70', 43, -72), ('o3hu', 44, -121), ('bb5ps', 28, -114), ('je48pic', 40, -96), ('20y\\n3y18tdg', 46, -95), ('v4b10y32mjb6', 35, -103), ('dujxcyl', 31, -78), ('6otcppcnon2 bp\\t', 33, -88), ('w5t8w53db6g5', 31, -115), ('azxey3pd', 30, -86), ('shpcl3h\\t6m', 32, -112), ('186w16', 30, -101), ('a\\txw9', 41, -111), ('784utjg9\\ne', 45, -113), ('sddyxfs\\tm2c\\nn0rsht', 43, -110), ('77e60 uleaj1bx\\nva7pd', 32, -97), ('2b7dtpm98eotoahxw\\t', 39, -114), ('w23o5o', 42, -103), ('v0d2n5ocqqerrc', 39, -105), ('1 b\\ts 3iz3ke4', 37, -74), ('fls\\tfopjqvbmrg mvd0c', 46, -71), ('527w01a193005glb', 26, -71), ('\\trow', 40, -111), ('meadfrt', 26, -93), ('wku1bgx9kambew', 40, -78), ('4a4\\t2wczs4gjiz', 27, -74), (' 0i64askrhu48p9\\nuyq', 33, -117), ('eekfs4pl 93stizf\\ti', 30, -119), ('xn2k8s74i7wm', 28, -95), ('9zc7suzqu1zds', 27, -76), ('nprqtom9awk', 43, -115), ('9g92qora', 45, -75), ('cj225mpc\\nh5', 31, -102), ('k\\n5lg353n6kcd\\t4q', 47, -97), ('b6opr5zr4j99rz 66', 46, -78), ('yd2q', 40, -87), ('scpbazw tol0\\tk', 45, -76), ('gj\\tn5q', 37, -75), ('7bx5oguxex wm 9qqi', 26, -103), ('c1yzk7i0fao3nm96vml', 44, -76), ('db06', 47, -83), ('qq 98gr5l', 40, -85), ('qm1c4v', 31, -117), ('n\\n4iz6rx', 37, -105), ('2zyh7', 38, -107), ('evmc8wq1fz648l', 33, -73), ('ae97\\nt', 39, -76), ('xo3\\ng', 27, -93), ('bmzxq ve0h\\n3 0', 37, -113), ('g1vlg24mvr mylu', 36, -81), ('7icgdq', 33, -72), ('eh7mdefft2', 32, -96), ('ra53sfy8i8x', 45, -90), ('\\t87\\nz2c\\tox obc7c55', 34, -73), ('1rb723uxdqo0h8iaep', 38, -89), ('md0kwnq1yg1ek\\n3x', 35, -118), ('7f n9x0yh3m5g', 45, -121), ('\\t7el\\t', 44, -77), ('6h xh7uyl3b', 40, -123), ('\\n0 u\\nk7qnn1vie9ns48c', 31, -86), ('rwmlu', 48, -120), ('l2m2hxh\\ty7 ', 28, -99), ('gpg819nzplrr\\no9e29xz', 45, -105), (' nc1wgm4q79', 31, -112), ('td2x\\n', 44, -97), ('yd5mb', 46, -112), ('xvrpem17xi9u\\ny9pih', 38, -90), ('cnde7n453sa3ax4gm\\t', 35, -114), ('o1jn8qofr131u\\nzz\\nh', 38, -85), ('a20nvtru2\\nv\\t', 31, -120), ('oz0\\tgwgjck76nj', 29, -73), ('8jnsm\\n45b35jxa', 47, -78), ('mkz6r9', 34, -87), ('o5t6zph\\nq4huv', 37, -112), ('a4mdegn6sar8', 30, -90), ('c5\\n0cokl fv5hh', 45, -82), ('5jr\\twlkqy22ip', 39, -86), ('oyqpl\\nk1k6k5c81', 47, -93), ('jmcc6nmwzfg', 38, -110), ('fee94gn0nox5t', 45, -109), ('5rt\\tyl1', 38, -85), ('fkjzezyjv\\tq369c', 29, -103), ('35q2l', 47, -93), ('sej4ri', 47, -114), ('nd5lbgnhg9e p7mx', 27, -84), ('xtb3rq\\n2n9v', 40, -119), ('kc3jk0hri7fv9b', 46, -120), ('51c85yncr0\\tk1oq', 46, -86), ('fja\\toege', 44, -95), ('y\\nq5', 27, -100), ('57ilkxqb', 42, -71), ('yo7nc2', 33, -78), ('eru\\tpm2bnw\\t0m', 38, -123), ('145742irvlzxs80w0gkb', 48, -116), ('99a95kdo\\nnyku376', 40, -82), ('4o7y\\nmo ipwsi5kd', 40, -101), ('alm\\n\\tl o9zavdy3o 5t', 32, -85), (' 62l', 32, -98), ('b8qv2\\nnp', 45, -79), ('54bxtt9\\td3m6f', 40, -88), ('39q9c66lz\\tdoobcl', 33, -104), ('hpnze\\t8gd', 44, -78), ('k56vlnstzkl673 elka', 34, -119), ('2q\\niw', 31, -97), ('qa9cabjycy', 48, -99), ('bfpbd22', 37, -77), ('wnxvf', 33, -110), ('wyaiqhjlr\\t4j5o\\t1xp', 37, -96), ('zkrr\\t', 39, -102), ('7nyd11o', 30, -72), ('ag\\tgze5joatwjps', 30, -97), ('1qcdvbw', 28, -104), ('jdc7hhfi0y0d', 45, -99), ('myhp\\n\\tz2s46', 44, -73), ('a81sqmoase5i', 35, -91), ('oyexv', 29, -96), ('y6y9y\\no8pks x', 33, -100), ('msyv6oe sw1qrs0qg12a', 32, -72), ('f95\\t', 47, -117), ('vysnv1wqavm0', 36, -120), ('dfic', 35, -115), ('xwycl6\\ts1sqifdj', 29, -71), ('rp0hqzwnfay86ix25b4q', 37, -102), ('i2ktbe\\n', 45, -89), ('1da1gaczx585qwxowo', 40, -104), ('8i7llijw\\tn4p8iy8e', 43, -117), ('rgs6luuutu85ztr', 39, -102), ('o7\\nd', 43, -91), ('u3z0pklc8ky\\t\\t', 33, -110), ('8w1glo', 34, -119), ('ay2dwl7o67k6nn7q', 41, -115), ('hi22f9xxue', 36, -73), ('wt0m\\tvwtyia4vxc', 40, -84), ('uxngpwvpq64g', 36, -80), ('b70j wl1al', 30, -73), ('ubblh m15bez', 39, -76), ('n \\tzw', 29, -85), ('hbpooz9\\typn h9bb', 41, -96), ('vl\\torpsyq4e5\\n05', 38, -78), ('b92ner6m438 ', 43, -93), ('sj0pe0jn5\\t\\t27r', 31, -98), ('51e8obl', 48, -120), ('o816\\twz17m\\nd', 43, -116), ('oc1hm4p3b\\nhr28jx', 47, -104), ('lyn3aii6', 42, -118), ('jlezu1dgvqv', 35, -71), ('orsccln7l2zyk12\\t57gr', 38, -93), ('3mcg62g20n bobu0kgf', 38, -78), ('10dj un39u4olkd3q', 29, -95), ('0mw96m', 42, -105), ('4j\\nxlsixml7uh86 \\n', 39, -117), ('g1t05y77\\nrcy5sqh0oer', 43, -87), ('vun9eb01l', 48, -104), ('hmru4d1ho', 48, -90), ('8dd 1\\nv\\n', 34, -82), ('6k631kxed\\tp', 47, -93), ('8y\\tz0\\n0f5uac8', 28, -81), ('j6yu6m6a8ugdkss2q', 30, -83), ('obcsd mxsv77vt', 26, -87), ('\\t88r2th1ka', 44, -103), ('7y\\nqrsv0gdnn4g1so6n4', 31, -108), ('z4977zd 9\\nfcp84\\t', 46, -92), ('6u8jk psh', 39, -76), ('me7pqye67jwg', 46, -118), ('ckonc\\nszu', 39, -72), ('hm3\\tk89jb291zwr', 33, -101), ('5ku4w\\n s1q0\\t', 26, -84), ('kzk62b78ab\\nfsf58', 38, -102), ('g02l6z', 31, -92), ('vgms1l02j08qpxa', 26, -90), ('rut3trbumw5', 44, -103), ('2oti', 38, -122), ('k2\\n\\tys98a2', 36, -104), ('u23\\tl\\ny4', 41, -85), ('w\\tafv1 ', 37, -72), ('6pf6co3q\\nbunnwl9n5r\\n', 43, -94), ('oyhhr1', 48, -103), ('lkax\\n9ktr\\nh 17j1zu', 46, -106), ('0pnbcutn', 47, -71), ('t6\\n6n', 33, -87), ('6 gnf', 36, -108), ('0ia781nf', 28, -86), ('yq72waw64uvj', 37, -112), ('o7rzuhm', 26, -111), ('m9unl\\t9', 38, -77), ('p\\n66brnzkmnwxx6ds 0', 27, -95), ('kju50se0e74g27', 27, -88), ('m8bnuw2yljsnj', 35, -117), ('p\\ndn\\tb7', 45, -113), ('iw q6cmmt0\\n', 31, -123), ('hsdi5e', 30, -100), ('pl2o83', 43, -119), ('wdwhxguhrooqu', 48, -95), ('7jry9hr', 36, -97), ('sn0pss\\nyz', 36, -100), ('05ofu7fy g6r', 35, -103), ('i\\npu2', 29, -120), ('\\tpj2inm76u', 42, -84), ('gfuwmv', 44, -99), ('2wp4kisnhjmnrb', 44, -85), ('f71jo00iiup', 39, -107), ('tbls', 35, -89), ('4t00w58t0bummczwkl', 30, -91), ('bfiboxj70f5jc7 p0j', 38, -86), ('nmlcs up4a s', 42, -122), ('msmfgr5sb33\\ttdam', 30, -109), ('q42bkh', 29, -94), ('1\\n0bla4 g0nb', 28, -90), ('j6q9lsv3bkx', 30, -87), ('4nrerx', 45, -93), ('aullk2n', 39, -83), ('\\ntechqcfvh\\nq\\tn00dx4z', 42, -110), ('gk65r 0dz2wa4jqz2699', 26, -90), ('ml vl', 42, -94), ('waa6a624wf 8eda db7', 31, -97), ('sehb\\tngyniyiw', 40, -73), ('ect\\ne3g  a9q3b0iji3j', 43, -117), (' 0tzk8', 42, -82), ('ys\\tuetryq9iz', 43, -123), ('kpti jw', 29, -93), ('gjm1s3ol44dmy9swzc', 30, -97), ('a6t5meden8', 44, -105), ('6bmpera6e0tvcqgt\\t6v', 35, -75), ('8r\\nvloslma5gl6s8\\ngy', 43, -71), (' ja4m', 43, -98), ('qzenxu1i0lzb', 43, -94), ('ttknrhnrf \\tj', 33, -116), ('tre7 08kza3j09hm0gy', 44, -83), ('ee\\tjq', 42, -76), ('5anueq \\nm47\\t3o31ci', 47, -76), ('nvvifepbos65\\tm', 40, -100), ('acg\\tfggwd6pqa9pf', 31, -95), ('qto6phtxmpy0', 43, -93), ('k\\tj\\n4u', 45, -121), ('zwvqpi9x4ptgswhrs ', 47, -76), ('c3aob', 43, -79), ('\\t9ksn6ff0', 31, -116), ('a6i14tfyor1p\\tn2gl', 37, -113), ('z9\\n2xntx3q 63jx9', 46, -90), ('ppsote1rog\\taiy9clq', 40, -82), ('kz779v73', 44, -82), ('tebqt3wl', 31, -73), ('6u58tp4', 31, -118), ('yhmr\\t8ub2', 35, -78), ('5 588de5r\\nyp8', 30, -118), ('z8w9', 27, -96), ('dv\\n\\neo7al7v8sxl8m7', 26, -123), ('kx6m\\t5k5tqer zc', 43, -79), ('h5u2y', 47, -83), ('k6q7er\\na', 47, -73), ('nc9wehzv7432gsq7', 35, -113), ('w1zo3', 37, -75), ('u\\ni0mvpfkj2z3\\tyu 3i', 41, -120), ('vjoitg0', 44, -87), ('jzcs7gm33', 32, -114), ('1pnayb63i9s', 41, -73), ('vwx\\t8ukg0c3bfqp7', 46, -84), ('zkea9sst\\n9tgl6hb8', 42, -73), ('kte6y', 35, -119), ('uz7qmnws8fftqqrbc', 46, -98), ('iwxat iced69fc0p', 42, -86), ('9no95mgsszqal60h9tw', 47, -120), ('f719la0yt8', 43, -105), ('xrbz117r8hl08l1l', 34, -97), ('jcohb0aq', 36, -101), ('t048', 44, -87), ('wgvutcwvfro7sxe7', 28, -104), ('b\\nd\\tcnl8q3uum', 26, -120), ('aqx19f8xylwwyzx', 45, -111), ('74wfbnitupfg2', 33, -106), ('v 3tl', 26, -122), ('332yp5hqz', 30, -91), ('vm8suqhn9', 41, -123), ('s\\n14uv', 40, -84), ('udit\\tv', 32, -91), ('6h696ta7t7q', 43, -99), ('2xopcd1', 31, -87), ('o4avihar dtgu021', 36, -117), ('i\\t9ra\\nm', 40, -88), ('r 1t', 44, -97), ('\\nf24g', 30, -85), ('\\n1roa6to', 43, -106), ('1eqkd9\\tn', 29, -79), ('n1a2g06', 43, -97), ('vzuhvz3b4', 39, -76), ('mxoxoo00yyzsr7j0', 32, -98), ('46uv4tk', 47, -110), ('vz9y3g654', 38, -117), ('lscgi7cg0f\\t7', 46, -115), ('yrdg7cvj5k\\n1', 30, -72), ('om9ih9ijifou17pvqh8x', 38, -116), ('g62pv9c90v79', 44, -93), ('nzriz4zu89', 40, -91), ('y y\\trwvxnun7u0oyvmn', 35, -78), ('l6ygc0uppsxt8njv6', 32, -97), ('y\\nvf75d', 27, -120), ('58ecq0  s', 42, -92), ('f\\n0\\nl', 26, -120), ('yovlcpzmh9jbh8au', 27, -71), ('fex\\n6', 30, -107), ('j 3a 275', 46, -115), ('nw1 2', 39, -106), (' uk39djjmzk2d3', 33, -114), ('c2rl7wlox1\\tu10z1', 44, -97), ('wwdqy', 34, -113), ('vl7o w3hi8r0n', 28, -87), ('imjc', 31, -74), ('zmgizom0f3hfqjjyaz05', 44, -95), ('f399oiq4 u43dr1v9zx', 28, -115), ('ezffcgtu571', 46, -117), ('2ai1lcwqs9k7alj2 u', 37, -96), ('cfzph6fpw\\th', 45, -108), ('meer3xql6orwra281ua', 32, -118), ('n57aad0oqi', 27, -119), ('\\nljo', 28, -119), ('w2ng\\tbk', 43, -77), ('gfsv', 47, -96), ('z0ezl4hqn5degv5otgfl', 35, -111), ('apvrykw3', 27, -72), ('fntre', 43, -102), ('h ser3ciy', 43, -118), ('kfj movsnwqs26cizv', 26, -74), ('6h18d', 33, -112), ('lmgfeomdaghlhy0', 27, -79), ('8lmcl4ys2s', 41, -78), ('pzumn86d65ofcu g\\t7ra', 27, -105), ('lvinsxgd6\\t\\n', 39, -113), ('i8073ttvihc5gf2rd9a', 40, -83), ('n34\\nrupenr', 45, -92), ('e2rf4w t96064y8', 40, -121), ('xpmcx6\\tpgtp1', 46, -112), ('j37fveo cl', 48, -104), ('i0xxfi7c4g4yvxf', 43, -82), ('9bdor7gt4fw7 x5\\n7st', 40, -102), ('h1i\\ty', 37, -94), ('srprk3l68wm2scb9m', 33, -112), ('zdqk9eccv', 47, -120), ('x2wr35foqez', 43, -100), ('z0vrsl1h kq0v4ogegc', 45, -117), ('3kx7xvoav8d\\tm', 45, -97), ('93fjje996', 43, -92), ('nilx56kc6bzu bfg', 33, -75), ('cqblk', 39, -122), ('3\\tm4', 41, -81), ('7ypix\\nu8g1', 46, -94), ('hj6msrkm', 32, -75), ('5706kq255p756dwb5', 27, -105), ('ozrm 1o46navx8pl', 32, -101), ('xtm3ey8\\nody8ijs', 29, -111), ('3\\nzpvu', 44, -119), ('9c77w', 35, -111), ('4pastu1hv2vsr', 45, -113), ('oga8c8\\tghw6q88\\nzm9e1', 43, -87), ('l17u71l', 42, -114), ('gvifzrxt4\\tqrn \\n0x2bc', 28, -103), ('god5isdvh4\\nltx 5975', 40, -71), ('\\tj9gbsu1ge9u', 44, -77), ('ehjb8t', 33, -97), ('3thq66koomqfkw4\\t', 26, -87), ('lra8zt8lru\\tv2h7k\\t3', 35, -95), ('8g7\\th\\n8\\n 5wz88v', 40, -72), ('7yoc26\\td3xna\\t3', 41, -94), ('mvfvzj', 47, -76), ('y4i4', 27, -95), ('fyh0qvp', 35, -84), ('iw7i13stenk\\nh', 43, -91), ('xbrpaes', 47, -113), ('ch0ucac1', 38, -93), ('bjmdixocokje8ce', 40, -79), ('qgrz4rueex9d', 30, -78), ('qfr8', 48, -83), ('xwwn6uyee9k', 33, -76), ('ywdmny', 41, -103), ('5\\n7pqz', 26, -109), ('wdyxq', 39, -83), ('gee54y\\t1 ', 33, -119), ('biblcol3lpfex', 44, -92), ('\\t3bdlnuwmari\\tncfv4r', 37, -93), ('aihy7z6nnrtjd9br', 27, -119), ('8bvjg4g\\nw4', 39, -72), ('kgbs\\ncc', 27, -104), ('v8zbdvm oj7aymci', 44, -90), ('usiw16t7h2q9d8rm55', 48, -96), ('761n23mgup064a', 35, -122), ('g5 84gq1no', 47, -112), ('ebfudbfwy9', 42, -73), ('owucklu', 32, -118), ('ia u7o4gsp9qj4e8q', 45, -79), ('6\\n2itvu9', 28, -77), ('ncoemu\\tfsizf', 35, -85), ('vstg71gai0 nl1i59', 46, -88), ('ln0eya1ztacx z8geic', 48, -109), (' elx9\\tkh\\nnk en', 28, -111), ('v4fkflq7\\t5b jwacdzbx', 33, -82), ('okv12r45yisuqjm9ooue', 26, -116), ('x3x4l', 30, -81), ('znmi6hahm', 48, -80), ('pvnqbx b25sm0', 46, -89), ('\\nil6y1\\nl\\tx5xwrmb\\t2i\\t', 32, -105), ('xzd2s\\t', 48, -102), ('6extcd 446fcyxs0', 43, -109), ('7sa8lnat', 27, -112), ('gmdwxs', 47, -115), ('euhzdpp6f4jyowt', 41, -74), ('3kpuiq4hcpl7n\\n2gxc\\to', 35, -99), ('656jzi5yej8bk8pyw05a', 38, -119), ('\\n2\\nx cjjimkj 372', 27, -100), ('igu34faad8\\tu0xe', 29, -115), ('zry84\\t8g8he6lk079h', 45, -101), ('\\n7cv49', 39, -108), ('r2dm9oa', 44, -106), ('5qiheepnl8mmb6t6qmb3', 29, -121), ('fyhkzyzcnq1pq6pr2y', 46, -73), ('2rh54wal39jz5', 35, -72), ('e0c\\nz', 48, -98), ('i4\\tqm0 \\t2ce4h 4iz3', 48, -99), ('mh6ibigw37kdf', 27, -90), ('2hdz2mwo9\\tte2x', 43, -106), ('3vwjkn', 42, -89), ('qacy4hp86y35', 43, -116), ('wv\\nuekqrig0q', 45, -87), ('awa\\nn3849tk', 43, -92), ('6rwuu4o5o7eom0i\\ndng', 35, -87), ('zfumxjj0  uzy\\n0pr1rp', 41, -79), ('cvt82348jf07qrw', 26, -99), ('e\\t9lwl1cebxpbft', 44, -117), ('lipiqdley', 35, -74), ('fz59y8i gpk3vkyxfs', 31, -123)]\n"
     ]
    }
   ],
   "source": [
    "print(results)"
   ]
  },
  {
   "cell_type": "code",
   "execution_count": 15,
   "id": "757922a3",
   "metadata": {},
   "outputs": [],
   "source": [
    "restaurant = pd.read_sql_query(query, sql_connect)"
   ]
  },
  {
   "cell_type": "code",
   "execution_count": 16,
   "id": "05ce30e0",
   "metadata": {},
   "outputs": [
    {
     "name": "stdout",
     "output_type": "stream",
     "text": [
      "                name  latitude  longtitude\n",
      "0      cws4yveais\\t8        39         -89\n",
      "1  7u5\\t3h2p9 df3kx5        45        -114\n",
      "2   wxxk8kz99rfbcxix        39        -105\n",
      "3        lhe w64w5x4        32         -99\n",
      "4   boei0t2dc9c5ag\\t        45         -98\n"
     ]
    }
   ],
   "source": [
    "print(restaurant.head())"
   ]
  },
  {
   "cell_type": "markdown",
   "id": "d7307dfd",
   "metadata": {},
   "source": [
    "Use haversine to calculate the distance."
   ]
  },
  {
   "cell_type": "code",
   "execution_count": 24,
   "id": "3ad87da2",
   "metadata": {},
   "outputs": [],
   "source": [
    "import haversine as hs\n",
    "distance = []\n",
    "for i, j in zip(restaurant['latitude'], restaurant['longtitude']):\n",
    "    location_1 = (i, j)\n",
    "    location_2 = (latitude, longtitude)\n",
    "    dis = hs.haversine(location_1, location_2)\n",
    "    distance.append(dis)\n",
    "\n",
    "restaurant['distance(km)'] = distance\n",
    "    "
   ]
  },
  {
   "cell_type": "code",
   "execution_count": 25,
   "id": "3b4ba288",
   "metadata": {},
   "outputs": [
    {
     "name": "stdout",
     "output_type": "stream",
     "text": [
      "                name  latitude  longtitude     distance  distance(km)\n",
      "0      cws4yveais\\t8        39         -89  1295.332945   1295.332945\n",
      "1  7u5\\t3h2p9 df3kx5        45        -114  3396.417708   3396.417708\n",
      "2   wxxk8kz99rfbcxix        39        -105  2489.351488   2489.351488\n",
      "3        lhe w64w5x4        32         -99  1822.154721   1822.154721\n",
      "4   boei0t2dc9c5ag\\t        45         -98  2292.525526   2292.525526\n"
     ]
    }
   ],
   "source": [
    "print(restaurant.head())"
   ]
  },
  {
   "cell_type": "code",
   "execution_count": 27,
   "id": "62189335",
   "metadata": {},
   "outputs": [],
   "source": [
    "restaurant = restaurant.drop('distance', axis = 1)"
   ]
  },
  {
   "cell_type": "markdown",
   "id": "e03a0de7",
   "metadata": {},
   "source": [
    "Return the 5 most near restaurants."
   ]
  },
  {
   "cell_type": "code",
   "execution_count": 28,
   "id": "7fde28fa",
   "metadata": {},
   "outputs": [],
   "source": [
    "restaurant = restaurant.sort_values(by = 'distance(km)')"
   ]
  },
  {
   "cell_type": "code",
   "execution_count": 29,
   "id": "ea319599",
   "metadata": {},
   "outputs": [
    {
     "name": "stdout",
     "output_type": "stream",
     "text": [
      "                name  latitude  longtitude  distance(km)\n",
      "42   98ksgnuf\\ts\\taa        30         -79     96.297459\n",
      "967            x3x4l        30         -81     96.297459\n",
      "388          ibehfy1        29         -80    111.195080\n",
      "423           7cxxc5        29         -80    111.195080\n",
      "415           ykjq7c        31         -80    111.195080\n"
     ]
    }
   ],
   "source": [
    "print(restaurant.head())"
   ]
  },
  {
   "cell_type": "code",
   "execution_count": 30,
   "id": "7ddaf0e4",
   "metadata": {},
   "outputs": [],
   "source": [
    "rec_places = restaurant.head()"
   ]
  },
  {
   "cell_type": "code",
   "execution_count": null,
   "id": "b73d18a0",
   "metadata": {},
   "outputs": [],
   "source": [
    "def rec_resaurants(latitude, longtitude):\n",
    "    distance = []\n",
    "    for i, j in zip(restaurant['latitude'], restaurant['longtitude']):\n",
    "        location_1 = (i, j)\n",
    "        location_2 = (latitude, longtitude)\n",
    "        dis = hs.haversine(location_1, location_2)\n",
    "        distance.append(dis)\n",
    "\n",
    "    restaurant['distance(km)'] = distance\n",
    "    restaurant = restaurant.sort_values(by = 'distance(km)')\n",
    "    rec_places = restaurant.head()\n",
    "    return rec_places"
   ]
  }
 ],
 "metadata": {
  "kernelspec": {
   "display_name": "Python 3 (ipykernel)",
   "language": "python",
   "name": "python3"
  },
  "language_info": {
   "codemirror_mode": {
    "name": "ipython",
    "version": 3
   },
   "file_extension": ".py",
   "mimetype": "text/x-python",
   "name": "python",
   "nbconvert_exporter": "python",
   "pygments_lexer": "ipython3",
   "version": "3.10.2"
  }
 },
 "nbformat": 4,
 "nbformat_minor": 5
}

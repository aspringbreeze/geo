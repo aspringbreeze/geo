{
 "cells": [
  {
   "cell_type": "markdown",
   "id": "2e96c3ef",
   "metadata": {},
   "source": [
    "# Connected sqlite database and python."
   ]
  },
  {
   "cell_type": "code",
   "execution_count": 36,
   "id": "be5e01f4",
   "metadata": {},
   "outputs": [],
   "source": [
    "import sqlite3\n",
    "import pandas as pd"
   ]
  },
  {
   "cell_type": "code",
   "execution_count": 37,
   "id": "0a124ab3",
   "metadata": {},
   "outputs": [],
   "source": [
    "sql_connect = sqlite3.connect('geo_project.db')"
   ]
  },
  {
   "cell_type": "code",
   "execution_count": 38,
   "id": "135d65d9",
   "metadata": {},
   "outputs": [],
   "source": [
    "cursor = sql_connect.cursor()"
   ]
  },
  {
   "cell_type": "markdown",
   "id": "033e03e5",
   "metadata": {},
   "source": [
    "Ask user to import destination."
   ]
  },
  {
   "cell_type": "code",
   "execution_count": 39,
   "id": "b439693e",
   "metadata": {},
   "outputs": [
    {
     "name": "stdout",
     "output_type": "stream",
     "text": [
      "Enter the latitude and longtitude(eg: 100,50): 40,-99\n"
     ]
    }
   ],
   "source": [
    "location = input(\"Enter the latitude and longtitude(eg: 100,50): \")"
   ]
  },
  {
   "cell_type": "code",
   "execution_count": 40,
   "id": "d33fef64",
   "metadata": {},
   "outputs": [
    {
     "name": "stdout",
     "output_type": "stream",
     "text": [
      "40,-99\n"
     ]
    }
   ],
   "source": [
    "print(location)"
   ]
  },
  {
   "cell_type": "code",
   "execution_count": 41,
   "id": "c7652bc6",
   "metadata": {},
   "outputs": [],
   "source": [
    "x, y = location.split(',')"
   ]
  },
  {
   "cell_type": "code",
   "execution_count": 42,
   "id": "4ccddf6f",
   "metadata": {},
   "outputs": [
    {
     "name": "stdout",
     "output_type": "stream",
     "text": [
      "40 -99\n",
      "<class 'str'>\n"
     ]
    }
   ],
   "source": [
    "print(x, y)\n",
    "print(type(x))"
   ]
  },
  {
   "cell_type": "code",
   "execution_count": 43,
   "id": "30b7a2a9",
   "metadata": {},
   "outputs": [],
   "source": [
    "latitude = int(x)\n",
    "longtitude = int(y)"
   ]
  },
  {
   "cell_type": "markdown",
   "id": "571cfde0",
   "metadata": {},
   "source": [
    "# Install the package to calculate the distance between two locations using latitude and longtitude."
   ]
  },
  {
   "cell_type": "code",
   "execution_count": 44,
   "id": "da1d9766",
   "metadata": {},
   "outputs": [
    {
     "name": "stderr",
     "output_type": "stream",
     "text": [
      "Traceback (most recent call last):\n",
      "  File \"F:\\python\\lib\\runpy.py\", line 196, in _run_module_as_main\n",
      "    return _run_code(code, main_globals, None,\n",
      "  File \"F:\\python\\lib\\runpy.py\", line 86, in _run_code\n",
      "    exec(code, run_globals)\n",
      "  File \"F:\\python\\Scripts\\pip.exe\\__main__.py\", line 4, in <module>\n",
      "ModuleNotFoundError: No module named 'pip'\n"
     ]
    }
   ],
   "source": [
    "!pip install haversine"
   ]
  },
  {
   "cell_type": "markdown",
   "id": "3e2e5ee4",
   "metadata": {},
   "source": [
    "# Using pandas to import the location data."
   ]
  },
  {
   "cell_type": "code",
   "execution_count": 45,
   "id": "fdb1b19e",
   "metadata": {},
   "outputs": [],
   "source": [
    "query = \"\"\"select name, latitude, longtitude\n",
    "           from restaurant r;\"\"\""
   ]
  },
  {
   "cell_type": "code",
   "execution_count": 46,
   "id": "49f7a7d0",
   "metadata": {},
   "outputs": [],
   "source": [
    "results = cursor.execute(query).fetchall()"
   ]
  },
  {
   "cell_type": "code",
   "execution_count": 47,
   "id": "8dd93580",
   "metadata": {},
   "outputs": [
    {
     "name": "stdout",
     "output_type": "stream",
     "text": [
      "[('j7zfudlzkljfw', 33, -95), ('bse4rn7935c1', 30, -121), ('rqw uut\\tp', 39, -117), ('\\na\\na', 36, -97), ('f\\nv3\\n6a8qgd3ql', 35, -119), ('7emfrplvt x', 48, -97), ('wl4oei\\noy', 37, -114), ('bj1otbd351cfdzvqn', 26, -100), ('9kpk\\ttow8juf9l', 42, -113), ('umunp4l', 38, -89), ('xuu 5c\\t70\\nr8lm', 43, -80), ('2h6udo\\na5cp80', 46, -96), ('dte0f5 675hzvhql', 34, -81), ('wu4ysv9syx', 32, -92), ('z\\t1nrdg\\tq00w\\n', 33, -72), ('qmhlc8', 36, -99), ('h03\\nev', 27, -117), ('t133q58sno', 37, -99), ('ffd\\tj o', 36, -119), ('sxhedg5vnr', 31, -116), ('lf6j', 39, -93), ('nzv6hlv\\tp2tui7502tkp', 48, -97), ('jxy0u', 48, -93), ('at9gt3yxzbdxz ', 46, -107), ('m i1uakob3qdrysuu', 46, -87), ('tv6vo7t79yvh', 32, -85), ('mzqlgonqpcf5mvi\\timv', 37, -92), ('12g1', 41, -97), ('5\\tt8 \\nk', 26, -114), ('pzttpr5g', 39, -92), ('pt3b9w7y9c1rbba', 34, -73), ('qfojyg', 41, -84), ('v2 rb', 28, -96), ('446qlbhj0xu3gva0uncn', 32, -108), ('nlbp3tt w4i', 29, -82), ('nc1f8vgsn', 41, -116), ('l utu161', 34, -78), ('5kev 7u uc2 opi', 32, -103), ('ctr3ni0xryvtmfhqn0k', 39, -115), ('haqskh yy8gq\\n1czo', 35, -106), ('xjm15wnkl0fb5f', 37, -101), ('v9kt2tj5gvpgs4gn\\nu3', 47, -122), ('zdow4joaat4na', 38, -119), ('6js3ukvvs8mrdk\\tbb9d', 35, -76), ('oo85tbu7\\nrh', 45, -94), ('rvhbjc dy ptr5\\ncnbs', 34, -103), ('vt35tp', 40, -76), ('4ypw kstyeor6kq', 37, -98), ('4u\\nih', 46, -97), ('rjspju2\\ndkiiz', 45, -87), ('jkj2qsr', 45, -77), ('2 yglz\\t\\tqyb4joccd', 41, -110), ('4noqygnmalsjvny', 29, -104), ('k2bnqud8bkjqsefg0', 34, -111), ('kuon', 44, -95), (' 1npxrxflxklreh9', 42, -77), ('c\\tqtefey8lrwu', 48, -105), ('cm89', 32, -82), ('hso73t99', 27, -85), ('bfp921wxuefnionvyw', 41, -74), ('\\tu01q03c', 42, -74), ('q49jzkt\\n', 46, -117), ('0pnsjwyi2a\\nanl', 30, -71), ('9\\nshvw8y7hh4zo19ju0', 26, -75), ('0ed4l1', 40, -87), ('frwbho42wx', 41, -118), ('w8qd\\njr9su', 30, -93), ('pj13', 39, -92), ('h\\nd5y48lp\\ng45v0', 26, -87), ('p2vxhx e', 40, -109), ('e2yd796v2rzct6vr8', 28, -84), ('1 f wv\\t9', 38, -81), ('agq2p', 30, -78), ('wvsyy3sxiix', 34, -84), ('wi\\tto0e3ckvd', 26, -114), ('7n3zb1inw03 1ug s\\n', 31, -73), ('z851\\ng k0459e', 40, -115), ('1 h 356yhn 4bxd', 43, -100), ('s\\n2fsgp53dpb\\ngql', 36, -111), ('wtoau2z7pa6vidsc', 35, -90), ('\\t\\tteu8drqwgduo\\nyaz2', 40, -92), ('9f3wc87hlsl60l', 30, -112), ('uk2hg\\n5zp4cr6a', 47, -103), ('851m9xg nj', 33, -108), ('xr1\\nd4myjhhmobv6w04', 47, -87), ('x 0ke', 36, -94), ('v4185i ', 37, -101), ('\\ty6auyl1l1a', 44, -88), ('mtvcd5', 41, -107), ('41b31 2478m3gx66kby', 30, -105), ('yx\\tde', 39, -95), ('cesefntft1\\n', 32, -100), ('oi\\t\\nw', 38, -94), ('jmmq8q', 39, -89), ('u3luyp5a4cjvi', 32, -93), ('utsjng29jo\\n8edmt', 29, -97), ('4zc\\t8779joa83b\\t 0', 30, -74), ('9ujpm7rbys42f8', 37, -116), ('yeegmtrwsfoxqm', 29, -97), ('4mwkyek3uo0', 47, -83), ('h4thmus2945ky', 44, -114), ('qqofgwkq9a0', 27, -104), ('p01ac7\\ti', 45, -79), ('my7 ovts21cmxlz17ww8', 39, -89), ('d\\trtjes3p6jp\\nr6hz8', 46, -75), ('s3rkww\\nhm3heznwxeyrz', 28, -83), ('149sp\\n7tmxeqbzqz', 44, -120), ('eabdz go6jfyss', 48, -97), ('fsnumtu', 47, -108), ('d3w\\nrlqybrpf00gwy', 35, -101), ('8 vtb 8', 41, -72), ('fxgtfrqlsov5zihjqdix', 40, -114), ('6ouzet0o10vb', 40, -108), ('e9mn py2cakdss\\n', 40, -95), ('7z7d', 43, -118), ('pfq7u4ec\\ny', 33, -116), ('ek8sxgcewj0d4j3iihb', 30, -90), (' rmp ', 45, -78), ('ofz0mia', 40, -115), ('x9slk30', 29, -79), ('b6u77s mj3j9aifg2', 41, -112), ('s 7pxikyc5jzwksq', 28, -95), ('y3rwb3fm', 26, -74), ('oo22xo', 38, -76), ('m a t3', 36, -105), ('ujfs 3dfwtg7lv8l', 35, -92), ('7xari', 47, -85), (' 6acbtddiae', 48, -85), ('s0ur l', 44, -108), ('91me9czam\\tirc9w', 41, -101), ('0uq9os bjbm\\n4en\\tvj', 36, -121), ('sb6e7o7vq', 33, -104), ('m2c8n\\twn4cnjzn8', 30, -86), ('hkt\\tig\\tlpg2oa', 28, -117), ('u3gtwe6', 26, -107), ('5iecl', 40, -80), ('1m\\t04tjyl', 48, -74), ('h90qgh1', 39, -97), ('z11kvpr', 39, -83), ('u6q\\n\\t', 47, -121), ('\\t2yh78denbmw', 45, -109), ('\\nt7f1ue\\nuo2qryru', 36, -97), ('5\\tew 7imv\\ns2', 42, -97), ('g0xejnx', 47, -114), ('j1141w\\t', 39, -72), ('fxrx40em8y86bxw0f', 35, -101), ('r14\\nz5xj', 28, -98), ('0x t\\tbv1dnq6', 47, -105), ('x uj3id\\tx3\\t\\no1 ip28', 27, -86), ('s vn2326n', 39, -109), ('\\t2w4l2\\n22s9c6\\nd', 39, -80), ('yt\\tttob3o\\nbe', 34, -95), ('w3pmm9\\njjqz', 27, -111), ('oqy9\\tb\\t1vk93', 32, -97), ('h1c bwvb1no24p2o', 33, -111), ('o2b1ob4g\\tt1', 42, -91), ('fny8lala36sua', 35, -92), ('9ncs', 33, -120), ('j\\nok0gl8v', 32, -110), ('3eo\\tgi3jj5yn\\tmc6u0', 26, -73), ('zs27\\nq0jgzjk51a', 45, -113), ('6vkgyformiypuo5yj', 39, -118), ('kiaj0wex', 37, -115), ('zz3iamqiw6\\t\\nzoo5', 28, -112), ('faua82r3vf', 27, -89), ('i53q9dh', 34, -106), ('1wqozqhf', 47, -112), ('fx4g8n58j47qvnwuqlvx', 39, -93), ('sqxxv\\nt5t6\\tzl', 35, -102), ('becmp\\t', 46, -105), ('k6scrbakvm5om0k5kq', 39, -118), ('\\t\\nccg35', 32, -99), ('zk 3r3\\t1ydix', 35, -101), ('lf7vozt6 48n', 48, -111), ('s2m98g', 33, -94), ('c9zo', 28, -80), ('2mm\\n1kizl', 46, -88), ('6prxh iqt4hdgk', 30, -107), ('bif08z8zazc\\n\\na', 30, -122), ('wwpw3ytp3hx7s 8', 33, -76), ('0\\n23wvytq16gl', 40, -90), ('ag\\n0ak69', 35, -120), ('f9sxn6lejb', 33, -100), ('kmgg\\n1si', 33, -108), ('jcnbuviy322qge', 28, -119), (' hpxwyoabf18pcv\\t6', 39, -76), ('f3gk\\n 8nevzc', 35, -105), ('m3pp3qo7l\\tq', 43, -73), ('r9anb4l\\noids0vtln', 34, -84), ('m 38pff1', 37, -80), ('p0mvynw', 38, -115), ('jb1 6sk7df45w011u', 34, -86), ('na\\tw1y1g', 26, -97), ('pdor6e2kp0zo3', 45, -76), ('mdmlupmkv1sbh', 43, -111), ('ks33skzu4', 31, -93), ('j85douf1abopd1p', 30, -71), ('80l\\tgza6a5pu5ptxa6tj', 33, -100), ('l2fd5b\\t6v64r66gp8', 35, -123), ('fy6cuuyoada\\ncg0oqw2', 30, -83), ('d0tgm', 27, -97), ('2qdm81q6', 26, -98), ('hbn3l44git\\nwzd0h', 45, -102), ('r5ttnhfh', 32, -119), ('d8d1ww\\tc', 29, -119), ('\\ndcpd7sxbfa', 40, -88), ('ot0\\tx29s iji2xocift', 41, -86), ('w7v9z7gh9csxq\\n2', 46, -109), ('jivjlt9y', 32, -74), ('\\ntq0ysx0rfl5kk\\nu90', 45, -86), ('2ub m ', 29, -88), ('akdu2od', 46, -97), ('bxy1hgbmuozfskmyc', 42, -74), ('cd\\n ocdo0cbnbby', 40, -80), (' spbf', 29, -85), ('gh1\\tnwldw79vvpd0y8', 38, -114), ('zm6s9', 26, -98), ('0lrb45cxor1di0o0wcw', 48, -101), ('yiedmau53', 34, -109), ('\\n9 qr\\tu1', 40, -74), ('tz99uj', 30, -78), ('9f\\n0ze8j1fkdz2zzw5\\nz', 36, -83), ('xn483sr', 41, -88), ('3ctd5j55c\\nqaf', 32, -121), ('rmyvv', 47, -108), ('nuk\\ndv afbfq1dl3t', 34, -111), ('st 4giducx5w', 48, -93), ('g6\\n2j1y', 27, -115), ('k0o\\ta3gz\\n09wwz', 41, -120), ('e0fdtbj iutfs8', 36, -99), ('9zd96yqnu hlix', 26, -105), ('fpmk', 38, -117), ('am\\nhiu2p0\\t8enzs\\np ', 35, -94), ('jurp\\tw14', 41, -112), ('\\n\\n w', 33, -73), ('i3otq\\ny2yq5kj', 26, -99), ('p0s50yaz', 36, -86), ('q9m8a', 32, -103), ('2b41gqjx26a\\nefov5k1', 34, -118), ('36d0ov d4fkk', 29, -107), ('wx9wf6muc8g3', 32, -88), ('zfcsks', 48, -77), ('ignlv', 32, -74), ('gfhr094', 40, -101), ('qq5 8yxbo8utc3ijasxe', 46, -97), ('njtovt71t', 48, -86), ('g6nxjeju', 45, -71), ('vn0\\t', 30, -120), ('lj8lxo5\\n28qlatzv2n', 39, -82), ('n2jovpl80g', 33, -96), ('7ieui2u7ess92', 31, -98), ('w9p59k9gjljkv\\n', 42, -105), ('ksdzqg0u60os', 26, -93), ('u0w6qsgwe7x 6d1iz', 48, -73), ('ldfmw4ahf9oe0 gr3', 29, -106), ('8rwy5pe0i22', 28, -117), ('w\\tl000ea', 37, -102), ('f3rk\\tg', 27, -100), ('grh3l59e\\nseoa2u \\t1', 31, -91), ('6cprqnatvb9fa\\t8', 35, -97), ('07h v\\numzo180a p', 34, -96), ('4d8qtjhr', 33, -113), ('339\\t', 36, -98), ('zw 4xa95j', 32, -93), ('gxwla0c3ei', 44, -102), ('812a6z4z', 43, -116), ('\\n0ycwi', 38, -98), ('lqjc', 43, -80), ('uh4fnbtg6\\tc1z\\nc', 41, -111), ('4vur5', 41, -116), ('t j3tm', 30, -99), ('v\\t00', 47, -86), ('15r81c96', 31, -104), ('\\n\\tehw\\t', 44, -74), ('t8kbq6gkifl\\tualew', 38, -103), ('j\\n0bowgt18640cc4', 29, -113), ('5jozx96w7ry1p', 48, -111), ('\\nlgj4xkar1fpmgl', 35, -102), ('zjj33a', 36, -75), ('t2tx 9qcgf', 41, -110), ('w3orlzsz\\tttfq\\tb4n', 27, -115), ('s7a1kko 0il\\tnn', 38, -122), ('hepv', 39, -77), ('0lfmet', 36, -81), ('1bvbn l4pwhti sl', 38, -112), ('rpv0ji', 27, -109), ('gitpcltd', 36, -88), ('cvp8ypc51rw lhqd\\t ', 46, -94), ('ut4f\\t3bb0mjw5z ', 39, -87), ('m4m9a\\n88', 35, -100), ('e71jv itn7h39', 29, -90), ('bmtg0qj2qt\\tip0x4c', 35, -123), ('7qjvlqoxxfuuky3n', 39, -90), ('9qvjosd', 39, -120), ('\\nxanjbc9d1r', 39, -71), ('7d47kk1lpnsro6foup', 27, -89), (' c3pu', 28, -123), ('mwtzg', 35, -75), ('wnc1\\n1ulyp7gukhg', 27, -81), ('90mdjrw', 41, -76), (' 2j\\n9qt\\t11pcw\\noe', 40, -75), ('4e2lmzehxfp', 35, -118), ('gnzxpre4ior4syx', 31, -84), ('x5hdww1\\njako', 39, -117), ('h\\ny3mkmiesazh', 26, -89), ('3b 7sir \\n6 g', 29, -72), ('xpg5a6nusux\\twwdy', 46, -86), ('mpznv5ym0 pn9mfn', 26, -97), ('9zdd4v7agf815033bpol', 31, -120), ('7hn9', 43, -71), ('t3m9v\\nzv6hjrvvsc', 27, -101), ('rfev8ckhh7mqq9s1bj', 48, -121), ('j1powpid', 30, -122), ('kh3ypobq0l9z', 33, -114), ('elz181s\\t1u8wwnyv\\nw8u', 37, -81), ('vr1mao9ogu', 31, -75), ('v\\t41lccdu08q5dh5v s1', 39, -86), ('vgulc7r4d3giyyzf', 47, -77), ('plk3hpzts0u', 38, -73), ('j5jtur5nf18l', 44, -82), ('dkw0s', 36, -110), ('yafp98z75jaeeqm339', 36, -76), ('\\nv06d4m3rr', 45, -79), ('5ayb09s61b', 43, -117), ('47\\tclvbs\\n6r', 29, -120), ('23uwx8nkeh8sq2u9mt', 47, -95), ('5lcz8ypleqtgftjp', 46, -106), ('xfdeaw2rf', 30, -84), ('5jo6pl9svv9211twv', 35, -117), ('gq\\ni65dqpv24', 42, -90), ('\\nn8\\ns29rp8ivr9js5f5a', 41, -119), ('kj 77a\\tovp', 27, -100), ('5\\nsn', 31, -87), ('av8 cnf6m34x', 44, -79), ('autwrotx\\n6\\ngsec55', 27, -80), ('gvkb48mhmtdxi\\t76b', 47, -99), ('i80z0io7avwbeqf\\n1\\n', 38, -119), ('2n\\t7o6rhy', 32, -114), ('lqnnh84a9w2', 30, -109), ('wdtyxff', 42, -77), ('iufh1t\\nssfr00z73eyix', 31, -74), ('\\tzzrgq pn820aha0', 27, -119), ('2a5 01vttfc4\\nnikc1ux', 37, -89), ('kun1haex0ernmt4tj', 28, -112), ('xsv\\nqc7z8 cho\\nv107', 32, -117), ('6x49hnq', 41, -115), ('by 6q', 30, -101), ('tbga84gcnhge4024', 33, -115), ('8nx9idvd', 37, -104), ('8g5t', 44, -107), ('2y9mdeg2', 26, -77), ('tp\\tg0kpo\\t6h6x\\tr o', 30, -74), ('pqf68ro9r ', 43, -90), ('mqn0xdx\\t7kl7m', 42, -111), ('x6d2x', 42, -105), ('pfdqyro\\na10\\nk1cg94f1', 45, -93), ('e2qg 9zt', 31, -111), ('g\\ndfl\\tmo00vcgp7rw', 28, -115), ('z3\\nx4kwz aj9uybe', 45, -84), ('v\\t\\nh', 45, -112), ('xnnpolt\\n10pejo', 43, -98), ('m8as2k', 37, -90), ('s4 ookyrg', 43, -97), ('cn442pqss69 6a6', 30, -85), ('l81crumpw3v', 32, -92), ('\\nol3kn8kksg\\nbje', 46, -121), ('09w8om43', 41, -109), ('xg8590xgie', 42, -107), ('m8s67\\t4uzr3wh6vcl', 30, -97), ('wfz483a8tgmdusg', 26, -101), ('cmkmlt4x7koaizmfv', 39, -81), ('prfl5', 44, -81), ('rt01', 29, -110), ('25f6', 47, -75), ('l0ajc6ucx58lp', 45, -123), ('id31bxaq2\\tf2ppp6r', 40, -96), (' m4q5wt', 38, -108), ('yfuhvb6r2l0h', 35, -119), ('980jujgu', 47, -87), ('rhw6u3my5aemm', 43, -116), ('qv6 ', 41, -74), ('pq9gstwszvp\\tnl6ee', 43, -71), ('h31d9\\nf7id8u88tmucjt', 44, -74), ('oj3x\\toesa\\nt7', 39, -120), ('qoa9r0eeed\\tjihi24', 44, -97), ('e7sj8i\\nt', 47, -85), ('qrdey9vd3r926mwqze\\t', 29, -79), ('cxznlch96vn', 42, -102), ('le86vjfgy', 37, -88), ('d0tebgfg9jwy90ta', 37, -90), ('lkv76x4rpjiby3', 26, -122), ('6my6uak4', 39, -117), ('nsz25k64\\tr0\\trzwdrl', 33, -103), ('l0pctay7\\n \\n9g4', 31, -87), ('3cqdke', 28, -90), ('10nd27r2cepee1877v', 29, -100), ('kbfvuke24', 46, -94), ('4\\n80', 32, -86), ('4ze6sutp', 28, -82), ('wu5b1jgji59jv', 35, -84), ('fbauwawl7sbh8xuy', 43, -79), ('eo mq4jwkhk09nh', 35, -88), ('dmvvv1', 31, -92), (' cdy9l08u2v1vfdxr', 38, -100), (' cv1ln6a6ek', 41, -91), ('qbblo62b1b\\n \\n5r', 40, -118), ('ruf7sdnwt4', 46, -71), ('9vn7h9xz9', 33, -89), ('3jvpl6', 31, -115), ('bjmdos2al0q\\t4s', 33, -102), ('mrpkvpnwm\\n17p0v1h', 47, -79), ('uqrn', 26, -101), ('xvuk0dlkxt', 45, -121), ('8\\t7p', 45, -90), ('p7dsr80pm3ehc', 40, -76), ('j\\n w 72q\\tx', 29, -118), ('2355 ub', 28, -102), ('e mt98tpt', 41, -122), ('jc4yopy1gn8glrrd', 33, -109), ('vzg2iac5', 33, -120), ('hspv63l9 c95jyfur', 28, -73), ('w7o51bjyh', 31, -93), ('np\\nmheq8r7 ', 40, -75), ('v4bce12tx58', 43, -87), ('a47emeyqa48', 28, -121), ('ith\\twr9k138aityz2bg', 36, -92), ('1e64zlbx', 39, -76), ('k7k8oizmmql4xf8gh\\t6u', 40, -122), ('dhvdrrjm6g', 35, -122), ('gra\\n\\t8ew1g2vm', 39, -73), ('z1tx74', 26, -87), ('g13q8s40hfx3eeoea', 37, -118), ('b0\\tcrlu', 38, -106), (' wikcw', 34, -75), ('b8\\tfep', 43, -118), ('l35d', 32, -112), ('\\nnmwflx7', 37, -101), ('uxfjdwiq', 45, -105), ('1nl8uh4zb pgpgb8', 34, -118), ('kyjx2u qidd7h2c', 27, -81), ('2z4xqxrax3dw', 26, -97), ('z89iu38bdp6y027xg70q', 45, -92), ('uhvvxu h620', 34, -88), ('618u ajuqsch2e', 47, -73), ('24khtt153w ew', 27, -123), ('2um5r4', 47, -92), ('7np506j57\\n7mrid', 27, -75), ('fnibr 8r wuzlx1t25zc', 33, -109), ('\\nfrdm6accg9 ua7t1gnx', 46, -103), ('5dg61m2p9\\n2h', 33, -114), ('k3tn47tuj594d', 46, -109), ('ty2dgiers', 43, -104), ('26\\nbee8z2gjl7bok1m5b', 39, -86), ('85wo0leqroxa9472r', 42, -77), ('xrhms4f0tw7h', 32, -117), ('viahz91i2ql4fu2h', 42, -84), ('5uw 7', 35, -72), ('kirx2y9c1qw2tae9', 43, -120), ('k4bjpp', 26, -85), ('q5s8sn6s pc5a\\na', 29, -84), ('yqgwnf3ocwsjkhy he3', 37, -93), ('c\\n9t6me\\trbkt', 38, -94), ('qp8vzr7ho7ul9hm\\nv4', 41, -88), ('tq7d', 28, -98), ('o4rxdvs 2k6\\t', 28, -108), ('ztz45xmrizu', 37, -90), (' t45p5', 26, -113), ('hudy9zi7g0', 36, -122), ('8r9tlfe1', 32, -94), ('r3vijl1a', 44, -86), ('y16\\tz', 40, -83), ('5cbv73gt3ge\\tm7gx50', 30, -72), ('uiq3hu\\te\\tldfu4c14iis', 48, -75), ('qdaz9', 43, -88), ('po7f4t\\tyuuqhi', 27, -121), ('t\\t67tze\\tfhw7wp 79', 41, -121), ('o\\n27', 36, -74), ('6jo 5cyp', 42, -94), ('icv90', 43, -101), ('p2m\\nf\\n88ensvm', 29, -92), ('7j07d9m30ad\\tl', 48, -107), ('blxko\\t4c6gm', 38, -76), ('c7o41i', 31, -122), ('0svzcu bjf\\no4xvyu4ij', 48, -111), ('wwf\\nzq9', 43, -99), ('6sisn1pej4py', 39, -107), ('ob\\ti12nk7uzigf\\t', 41, -75), (' 3 \\tecrwj4sho', 41, -97), ('is2u0', 35, -100), ('hbiui60\\tdkbn3\\ne', 36, -101), ('sj1  4iz78hak49p', 37, -116), ('kewat', 39, -89), ('\\n\\n17nkrsg', 31, -103), (' 512zbwgxbc7\\tco8e\\tig', 33, -123), ('d\\ntwjg47r2', 38, -96), ('jmzofz3nud8qzrg', 34, -121), ('p\\t23riun4uu2y9uhw', 39, -72), ('3\\ts70nqfghe9nlte', 35, -100), ('tikbtnn9d\\tsbrkvh19ju', 38, -82), ('\\t\\nza364 d1hwd0d2k', 43, -78), ('iord1n65kgtoy', 48, -80), ('ric0d3tbi', 35, -121), ('g8rhbpbkflu1 r', 31, -101), ('b\\tqh', 35, -119), ('yt06', 39, -112), ('a\\nq4', 48, -85), ('jx\\n0zh cywcq3vmc', 47, -108), (' nhy\\ti\\t10', 36, -110), ('7a6pw8px', 38, -106), ('ofmd2\\tl62iovi', 31, -119), ('j8 s', 37, -92), (' jptx3234z62', 40, -117), ('1p83psjt26ojk\\n0yz', 37, -112), ('3 q7', 32, -117), ('v\\n\\nofkso', 43, -89), ('6uqbxqscjd1\\n5', 30, -110), ('lej284jiuw4vq', 41, -116), ('oj6mo0\\t', 33, -77), ('gwh9qnn\\t659', 26, -113), ('or72b2rf0iibl', 45, -77), ('zvpogv4\\naeahxx7v1\\tw', 35, -82), ('9\\niabf1pd8mh', 29, -114), ('lod\\t\\nbjua6ydm', 46, -106), ('k9hwlr1ztgn0m\\nu q6', 29, -121), ('zgp4', 36, -99), ('2e2drd80n', 26, -83), ('\\nte\\netrn2e7\\tuyi8q', 30, -98), ('byqkld546kawf9dv', 43, -95), ('ogiq5o04', 39, -109), ('b\\n0tz1fnihr', 26, -82), ('59\\n2xzcmr', 47, -91), ('qir\\nefvu5rt5dz72v', 44, -103), ('5gq27\\n7mxc\\n6wldl8jd', 34, -73), ('7ltm7mr3', 39, -100), ('lu33epsy8lz', 38, -109), ('cgmxa', 45, -73), ('emze0cglml8jbxu', 34, -84), ('\\tynva', 31, -100), ('27qsqdem0f8ht', 28, -75), ('1pwqzxd y\\ttirjo6', 39, -94), ('n 5tjxg\\nm223', 33, -97), ('q4eqybad', 28, -113), ('68j\\tnyt8', 33, -84), ('q\\tn5m2sq', 42, -79), ('kn74t4i8u\\n6tnqq', 33, -120), ('omyt', 29, -71), ('cxvihhk230 ', 46, -116), ('s18f', 31, -80), ('4ong7w\\tzwpsy', 38, -77), ('3ye54\\topzk\\nc52', 29, -91), ('hla\\t', 32, -72), ('1lqdiu\\to8fjnmb9dn8', 27, -76), ('1anb03niwag25i\\nwu', 36, -109), ('hcc9f', 43, -80), (' 39\\t', 27, -114), ('drr5aglbaop0t5lyvp3', 43, -88), ('mtxjoi1noqs ', 37, -111), ('y4\\nl7m\\n', 31, -89), ('\\n53nyi5ptg5', 46, -86), ('u4medsm', 37, -86), ('wcpj2\\tkoq\\t64frr', 41, -96), ('n exau3', 26, -75), ('83pt6gt91dy0b', 27, -97), ('doh0 om', 38, -97), ('0\\txjdfe3zhjoafmulm', 41, -103), ('rks4', 32, -90), ('f5ylc\\tlzq2ywyg6hwny3', 48, -91), ('vow0139i8uomcqdbbs6', 43, -82), ('7ier5v5vkmwdhhq p0g', 34, -119), ('9y3w', 29, -90), ('7jnd3', 34, -108), (' 1xpvaijr8vn9ou', 30, -99), ('j\\thoe6ewab', 33, -91), ('p tghd7xkfrdgo5h2', 45, -103), ('halwix03smpvc', 48, -121), ('3buvf8tsxbe5', 46, -96), ('1tbx\\no', 27, -79), ('kk5fq', 30, -120), ('a\\tx l0cjzxdiej7zjd', 26, -85), ('gjf0nduk8fupxsvkla90', 39, -102), ('bakpmk', 31, -91), ('9c7x9qayp75\\ntpezfaxz', 34, -86), ('ur2n9dy3boiqekb3ub', 33, -81), ('g8gx8lf4813\\tj5p', 35, -81), ('9w n4ld0', 30, -104), ('ro\\tdkfakq', 32, -91), ('oxu5g3\\t\\tdm', 40, -85), ('u7qhoxn8nz', 44, -82), ('wdsd0p6onb7smcvkb', 48, -111), ('hmc0n\\t 9t', 28, -115), ('0r \\tz\\tji5', 30, -115), ('97gkzwor8yb31', 47, -97), ('\\t5o47g\\t94w\\ny32\\t', 26, -85), ('zyptrdaa ', 39, -113), ('k67eth', 41, -115), ('khul4jaesld', 39, -123), ('qk5zjs488', 44, -97), ('vj7qy', 45, -90), ('xxyf\\tz1v', 42, -72), ('23ki 8srnoo zl\\t', 38, -117), (' s539jb', 27, -105), ('vtubj10s59', 31, -110), ('6dhs7', 33, -102), ('xth61qu03cyy26\\te883s', 45, -83), ('vw7qmslvpwrb ', 41, -89), ('17q5cgqp', 38, -106), ('dcsdd4d wjjbrzdu4b\\n1', 38, -121), ('nw44lxuoxs', 31, -74), ('abjtpgjq9k4qjf32f', 30, -106), ('z\\tjofpp5pbw5vffgdy', 48, -93), ('d\\nu8da paq', 42, -97), ('xz947', 29, -75), ('18r\\n', 31, -120), ('aco\\thw1dvf', 37, -83), ('hhd4m5hh', 42, -120), ('vb32o6', 41, -114), ('tj4vulz57\\tjdtn', 32, -81), ('w sdp', 28, -100), ('atmv\\t0nc', 32, -115), ('3\\n \\nbet04j4ym', 48, -123), ('g2p1i\\tm0kr69', 28, -112), ('zjilpi\\t8e8el9kapk79', 38, -119), ('e2h6u1 4yq8yog\\t0i1', 37, -109), ('ri\\tfy8jev 9mos7nor', 46, -99), ('\\ngjnn', 36, -81), ('2apfnh7oevexzy', 26, -73), ('nc59mr3', 37, -110), ('ob7\\t0ofagcit', 30, -93), ('9taa yxg5njxz\\t4ca', 32, -79), ('nw8346vb\\t  064', 32, -122), ('p \\nsx', 47, -77), ('nfsoaigvkf86j8bmawu', 26, -71), ('kvxx t136iv\\nvu\\nx\\nw', 37, -80), ('\\tzkqowfkji4ggomf', 38, -96), ('0oqn9ud \\tnjn5m6\\t6n', 32, -107), ('u9yjm8uccuwkt7', 26, -102), ('3rcszi66m', 30, -92), ('o8kn9sdj4i\\nzf\\t thvh', 28, -76), ('zniupgs', 27, -102), ('0hpusu8tp1xw2\\t\\ts4', 37, -77), (' j2g59qgfjw7jpml9v', 39, -123), ('alamf\\nrquo0zgtl', 27, -120), ('hqeqz11gv25', 46, -115), ('3wdax8', 34, -96), ('8jeoclu2vpa', 47, -122), ('b1dax30l68oga1nco', 48, -112), ('wrolu0i3w', 44, -112), ('\\tul dir02m4s8cojvs\\n', 45, -89), ('qs98u8ftlv6j8', 39, -93), ('ha 6\\tinmvessjrzrvw', 42, -115), ('8wscgez0', 43, -100), ('w40\\tvb9zg a62z9', 40, -75), ('o2vw023od7vdn\\ns0', 36, -86), ('9x\\trm842bq', 28, -110), ('xfzwws8ont', 41, -89), ('dngu', 34, -90), ('tufmmsb2zj\\ne', 36, -80), ('\\nepyjlh', 44, -92), ('4\\tvrndshvfaqx43a', 43, -96), ('tf19rycz8t', 46, -84), ('ck\\n21jo', 39, -78), ('3pkyef9yl5', 30, -81), ('r4tz5 5r9j', 27, -115), ('\\n5n7cbk', 48, -104), ('tzf6jepw', 27, -73), ('p84vavs8', 44, -109), ('oz9 ifqa', 42, -102), ('ag\\nkaxkyla7yjs', 34, -97), ('zm5twl', 30, -90), ('gyb4dgpihlu n3\\tpx4', 33, -86), ('\\n5cwxd5ut39ix22154u\\t', 28, -76), ('po5q6d2 5o2 aq', 48, -75), (' 6od3bbd gi9', 28, -101), ('jzreufvffgv\\tm6g5avj6', 27, -111), ('y2lfpe9o8\\n', 39, -119), ('de4y\\tv1d9vga2', 37, -91), ('sbzjeyzguh5', 28, -122), ('e6bj9cy2mzg2flfng8tt', 38, -118), ('4rpa lqqsu\\tv\\tms', 38, -87), ('xfdmalbv\\t\\t4', 41, -113), ('pelfpa', 38, -75), ('gygcyw v  duzj99t7e8', 28, -85), ('p6f\\txp17', 45, -121), ('rbr5gotg95cw3m4\\n', 39, -98), ('t0bvrle\\t2\\nkg01mru', 35, -123), ('sjy3\\tg', 36, -111), ('d w4wrb6y', 39, -86), ('hcnaquqz1g1ut', 38, -100), ('xxy0xih2f9nv\\n4fwl3an', 42, -97), ('4w2\\nvtfhcdkkzu', 37, -115), ('k4p71ic5di0', 37, -79), ('o84ustn jj2mir1kv', 35, -101), ('bynfr\\tyq83slesu8w01', 44, -98), ('49q4p\\nub078o\\tha4\\n23g', 36, -75), ('inecf7e6 1ub8z', 42, -120), ('ao2o91u zzkah3dyr', 32, -98), ('dn29tay6tjwzkfn9\\t', 42, -109), ('b5u\\tpbjbjq6ontv2\\tlw', 45, -118), ('hax\\nda mkxuk1ir', 26, -107), ('4ik\\tikqud9i', 34, -118), ('g ko5fd7xfla2', 28, -105), ('4gqzgr3 2r5tmg1f', 26, -113), ('rwkq1l\\txk9ugrhy3', 30, -71), ('bq\\thoa', 46, -90), ('ofq4qog6guc', 29, -90), ('99\\njsk\\npmw3n7gd7v', 31, -86), ('kygd0dsz', 27, -107), ('9tnydp\\t0e', 42, -123), ('nqc5f\\tcleokp6f5p2n3u', 32, -112), ('e0f71ywhf0v', 37, -93), ('003vi4haooms', 44, -86), ('4qnre61b', 28, -91), ('8fk2lld', 27, -72), ('325cjon1uo142k9o7', 32, -116), ('l5k52ma', 31, -94), ('j2tn\\td8kc1', 32, -87), ('zu57z61ooqim', 36, -72), ('gnqs3dz6nlkif3', 29, -115), ('n3s8g', 35, -78), ('cbx1\\t8gv3nm4k', 43, -90), ('rlt2lv', 44, -97), (' yujn6 \\te5k0g', 45, -79), ('s390u03trsrt', 43, -109), ('gds5hqfos5yfnqq1', 46, -75), ('hkbs9emk', 31, -95), ('pf5tuv64', 48, -84), ('gf0vgb1sc', 44, -88), ('aadww7gi5solgm13', 29, -122), ('nub02dcug 4ksqm7b4', 36, -91), ('t92gqp48wby2ukn6\\tu', 29, -103), ('jvl89yyam', 30, -98), ('7c317vijtdve\\t4qg5ql', 27, -100), ('b u8fix3ozg', 46, -86), ('ree7n0\\tk', 38, -96), ('sdgqajotdsi6\\n\\tq', 43, -79), ('crsk4dn\\tzq0jp', 44, -105), ('cjcenndcvb\\nm', 26, -108), ('i53fu38d9rz', 43, -72), ('m5k5l6a5gzo1jve3', 47, -82), ('vxvxupfiska  ', 42, -105), ('bc1qn 1oj8 d5ec013', 48, -119), ('clcj', 34, -109), ('tzje057aujvruzat', 40, -104), ('eymk7\\tun\\n\\t97meuv0ul', 29, -91), ('8009\\nhhf2', 34, -103), ('3fne9wl0w4', 42, -103), ('wwvihr1w3hd9wq', 38, -117), ('ul10i3d\\tw sm', 48, -85), ('trfddaca\\nhw7by8', 27, -80), (' 6 \\nb364nri1tytq\\nrna', 43, -122), ('f1ykg0 69plf\\t', 44, -82), ('m2d29sfk', 31, -81), ('3ln0cn4xf65b mu2p\\ti', 37, -72), ('zzhu6tgzen13dg4lx', 46, -101), ('5o23fih64t1sz', 39, -120), ('f1ng2frew\\no3 opvw3q', 48, -108), ('yg1yi8s', 38, -75), ('nk0j7cfl\\t0svf', 35, -110), ('9874jx7lta\\tk', 29, -95), ('nogwbi\\t0yf23q5', 27, -122), ('03e5t9q\\n1\\tnbc q1jg', 28, -99), ('p06xnktukb\\tytefekd7', 35, -83), ('\\t9yyzi8o6f\\tmnai\\t5', 40, -118), ('\\tofgigu2u\\tlx\\t30i', 32, -79), ('0exc641nyiwyj4', 34, -117), ('m8yv9dx1765bef', 30, -90), ('utacaly\\ne\\tdk z7tu9', 46, -93), ('i4r1yf195q', 39, -121), ('44tw ogw66r\\n9 rqxex2', 35, -108), ('cqo927et7fp75u6', 35, -114), ('v2fmlxewn0g0gsg91wfh', 43, -119), ('6v2kn1x9p41d8pm', 29, -89), ('u3ogjkoad0zidqr', 37, -74), ('qih8a02u2vv', 48, -74), ('cidvw \\n5fwt', 31, -76), ('7k9kr6y39ohh5bz5', 46, -103), (' 5choxo uhv\\tqpp', 47, -118), ('4084e4cmh3 3qv', 46, -95), ('28p2hsmb', 36, -89), ('y\\n7sz', 47, -76), ('5nncz', 40, -86), ('keor', 35, -117), ('e2\\n3ifyvf', 38, -106), ('bsmc usngrjv', 47, -72), ('rgqyakzd', 36, -105), ('xvngfz\\ne6', 42, -88), ('oka\\tk9hwq91', 27, -76), ('6xzdnfm\\tkq', 33, -78), ('qvirvmvdx7t24bvhcrc', 41, -118), ('tfzsn', 27, -85), ('e3efkjs81nb50am e9g', 42, -100), ('z2\\t4d', 47, -107), ('kqfghgi', 44, -98), ('crbsqsw3mtbghtkx6rc', 45, -114), ('jd9wuh49as\\n5cr\\t1z', 44, -120), ('vpvkwh09dw17ar0pz ov', 37, -109), ('3fxooqq7njmy6', 41, -108), ('8bo63xdyrat', 37, -107), ('y2d k\\ni823', 47, -122), ('n57c6sr76rj3', 46, -103), ('g\\t\\nne0jw', 47, -75), ('iktdxgd', 39, -97), (' 9pohg77kx5ui0574', 43, -122), ('cz ua\\nrl', 30, -73), ('nmd8', 44, -122), ('br6r3z8er2e\\toz', 46, -93), ('8kpwsboun169w', 48, -122), ('w3jk', 45, -105), ('r0zuof5cp4f', 28, -114), ('lj5j ps', 48, -85), ('1la1796xh9wldw4zp4c', 31, -92), ('qay4wh', 37, -86), ('osrqa9d0wow', 34, -117), ('hk2xwvrhzzh\\n28td1j4', 37, -92), ('lr9jbo\\tm\\tjf7r\\tgu2 ', 40, -72), ('uvak', 32, -101), (' rv7l0', 44, -81), ('ta1oiotu\\n\\n busvw0nv', 35, -88), ('lwn2y5p8\\t  4oyobk4', 45, -116), (' 26wj6xj2c87h4909', 27, -123), ('6ks0j 4k3nw5ld6\\t\\trld', 41, -88), ('u16ajkml 11m', 44, -108), ('0w2d24\\n j', 29, -91), ('v61lx8n1v8mrtzu b', 42, -110), ('vsr14o5q8ybq398d', 28, -89), ('gz6bw8h7jsxtaezx h', 46, -73), ('a\\nbf', 47, -122), ('jctqfch\\nwu3m4z', 29, -113), ('c1olmz2gn2o52q p', 36, -100), ('8zv2saifeguphk2w1oa', 45, -84), ('\\nee79', 29, -91), ('rlznzu3cfdepa794y\\n', 40, -111), ('nk00nnwh', 44, -120), ('6noy3x7s u6q93kn', 40, -94), ('\\t4cmtk6th hgc3', 32, -110), ('l1j71', 41, -121), ('7maadfu8x1k4um870tu', 26, -86), ('rj9gj4', 30, -84), ('jj\\tc0h23 n3o9', 27, -80), ('c\\tz4js9w', 42, -71), ('s37neu97', 32, -82), ('cg30sdypbw8ipf', 48, -102), ('kuf z\\tm08i7lw7h0qi', 46, -81), ('ln1o4l47\\tebyyus1x', 39, -106), ('xdpmchv6', 29, -109), ('5tiqj g9r9e0a 7', 33, -83), ('35p5vzv3\\tj', 36, -92), ('snk118xwb', 31, -73), ('gw4n8 aonel669hj', 38, -121), ('p2\\t5\\n', 48, -90), ('hi0x1s6shefq06i', 48, -73), ('h4i1l\\n\\n h', 29, -103), ('oo \\n', 33, -122), ('7l8el6 vbwai', 45, -97), ('4 jew 9ri', 29, -106), ('5ecm7i2bzouyc314afk', 39, -97), ('hawx\\nb\\tvrsl\\n5woma5wx', 28, -95), ('672dqm8njfk2v', 40, -103), ('jdv4gckka', 30, -102), ('t\\n8\\tg5p', 38, -97), ('cun9', 45, -122), ('pcfuvuhjc1tc9an', 34, -113), ('zchi3ebdanl', 33, -77), ('nz s\\tljkopi', 29, -123), ('dyzxmm3 m3i', 41, -86), ('yjhyqgp\\tvv l5c15z', 33, -112), ('hf\\t1dtzbzoica8', 26, -85), ('bo5\\ntw\\tt7m', 41, -86), ('itid7hjva', 31, -76), ('0zm79\\nlc88xh k15z', 39, -75), ('gyuarm9', 48, -109), ('apfb\\tav2b\\nqw1', 34, -101), ('cqghl', 29, -90), ('vo9ke8f', 39, -76), ('twh1y', 32, -101), ('hjc knpvr638mclaooqq', 27, -81), ('58g6cn3b6z63ye90', 34, -110), ('4pwr0els82l\\n7', 45, -99), ('u gev0uwa qapmi6', 35, -80), ('89u2gl8\\nk', 35, -105), ('7\\tp2g5xbl\\nh11fky', 30, -91), ('\\t\\nnn3ziw41t\\nob2ikuk', 37, -119), ('ar4u4 7', 44, -82), ('0zt3gkzksd', 35, -74), ('tice8zi6', 33, -100), ('7icj pi5g\\nh', 32, -78), ('2ewvtzahs2x', 35, -74), ('zx2k6', 34, -92), ('uzqjcv7gvv1llb', 30, -71), ('cqbvwh4iy', 46, -114), ('kgbk\\nmlu1ip03q ', 43, -103), ('3fn9jcfjs5ua\\tqanp1ea', 27, -94), (' n5bvqhxnv5d7', 41, -115), ('3as7qh\\nvdlm', 30, -71), ('wxawraln1e6o3lir7yr', 45, -75), ('skjf8\\nk', 46, -101), ('nd7xz', 48, -106), ('1kmk', 26, -89), ('y75qs37jq3d\\tqq6cx5', 26, -101), ('ka\\t8sl\\n', 42, -104), ('ti5p69ax5yy', 42, -111), ('qe9ownui76y42', 26, -75), ('ar 6u  lu816jvk9', 41, -114), ('1f1sukezteofl3', 35, -100), ('rik4', 27, -118), ('92dqaa\\taev\\nzga86', 47, -117), ('4uyozi2y29', 32, -121), ('z8wrs59ot5mg8is', 48, -75), ('x3mx1j\\tc7\\nge7', 33, -123), ('1ouaka46mw', 27, -90), ('o9o0ty2', 47, -71), ('3wsx00o', 26, -123), ('5xbm35b1l5mp6lp9jmws', 41, -95), ('j\\nfc9tzno2m1bweo', 40, -71), ('tpy10h4\\nmx9cred 3 1m', 33, -98), ('qocm1c\\te1ir ojn ykgy', 46, -91), ('t\\tj4uszrkabrsdni', 37, -90), ('eg\\nwe5m77k6  1\\t9qvns', 45, -122), ('\\tqch50g\\tm4', 29, -97), (' zcdq14owqhrsvb0c9', 48, -87), ('quguaffuzn', 33, -76), ('8v6jq', 29, -120), ('inuy\\nx1299asm5', 39, -102), ('ye1s2', 45, -98), ('5mgt4uwizt7cf2oktb', 43, -99), ('ainz', 43, -122), ('ke00 r2w0vgx\\n\\nwmnda ', 35, -87), ('n3zxvgwn3ogru', 39, -90), ('4nm\\t14\\t49\\t\\t', 26, -111), ('3wd5u08sgvf2\\tkogdi i', 43, -119), (' 7vjrkheavia', 28, -91), (' c1i9fs', 47, -113), ('p86w', 29, -83), ('nfcdbtr007d9', 37, -75), ('qw\\t\\t60orakf', 40, -91), ('2jrgx73\\t', 33, -112), ('is x\\t', 37, -101), ('\\twxgi2h2ny', 35, -107), (' yteudyawzlec136n', 31, -85), ('\\nbevghnjye', 43, -97), ('7vk3su6hf', 43, -96), ('\\tjc2s2sznmtodg', 29, -95), ('4nrk', 41, -77), ('uvj37x3\\n970 mc q akp', 33, -73), ('u8\\tt0\\t881\\tm4 rzw8y7z', 35, -78), ('\\tkso4y\\n\\tk 4', 26, -111), ('7wz2vvko2bvxt', 37, -77), ('tj6h8', 36, -111), ('resovpl', 43, -95), ('x36d', 38, -107), ('63rbdx', 38, -107), ('l3rl92iyy1lo 41638', 26, -91), ('x3fiqzcc', 37, -104), ('b59abl9', 48, -82), ('b29q6seg8xmr ', 27, -93), ('joo8thaekq\\nxdd4o\\nwf0', 39, -71), ('nfhr4z', 48, -80), ('5d\\tes84czzvd7knu', 44, -92), ('\\tl2 f', 43, -88), ('ucwko7dbrq q2r66 p', 28, -122), ('435c\\nv', 27, -84), ('2url\\n7th\\t8', 30, -79), ('tqqwuw', 33, -121), ('1mb4no0x\\nr0wya\\n', 46, -90), ('7v99hsfv\\t2p7p', 31, -89), ('dze65chtjfttw7c4eec0', 38, -116), ('tvdsnvxhm\\t4hw', 48, -85), ('1oafcxj1q zp3', 42, -110), ('2mbi838m3yn8kw2', 46, -91), ('zkmcnx2tz\\t9lt9 afihn', 36, -120), ('t9x01l\\td5zmt2\\na7nun', 28, -74), ('nrbpu89u6', 30, -93), ('zffcl5o', 41, -98), ('q6v7jd0mjn5ib', 29, -93), ('\\tcwt49u0u3zuxbtbi8o', 29, -112), ('wra2hgrgb9l78s3l', 38, -74), ('yzw0jfthpip4jxgwih', 29, -86), ('tj2hfxzs6vg', 36, -119), ('61\\nw4dddcwnu', 40, -123), ('p83yibd', 34, -85), ('l0kwoasm5luft', 41, -113), ('d3q\\to4', 43, -119), ('og9101z4', 41, -118), ('8rn\\teyxc081xwud8dj', 34, -97), ('coi7qs4mz08k7lq030ni', 47, -93), ('cj3s2eqx9caavluwk4g', 47, -84), ('imvyi\\t s30jux', 30, -120), ('tzt4ls05x4j6pwr0\\n', 36, -121), ('t wyktavo q37c\\nqnf', 43, -89), ('gx8eb8ej', 26, -81), ('00x8ml4wydx60cwprf', 36, -76), ('hoyzx ntuk', 34, -103), ('mzu\\ncnq4\\t3avglb1f', 40, -88), (' pz5nn36jksq2a3iw', 30, -91), ('jk\\tvk45jj9q1', 41, -120), ('c\\n5wr509 s\\tqprcauh', 41, -90), ('sfy zbgbu\\t', 27, -79), ('qilladi4 64zdqz6b8', 26, -113), ('jhiy4jl6mjyd0y8u w3\\t', 42, -102), ('zsh\\npu106cgqol4vr', 34, -118)]\n"
     ]
    }
   ],
   "source": [
    "print(results)"
   ]
  },
  {
   "cell_type": "code",
   "execution_count": 48,
   "id": "757922a3",
   "metadata": {},
   "outputs": [],
   "source": [
    "restaurant = pd.read_sql_query(query, sql_connect)"
   ]
  },
  {
   "cell_type": "code",
   "execution_count": 49,
   "id": "05ce30e0",
   "metadata": {},
   "outputs": [
    {
     "name": "stdout",
     "output_type": "stream",
     "text": [
      "               name  latitude  longtitude\n",
      "0     j7zfudlzkljfw        33         -95\n",
      "1      bse4rn7935c1        30        -121\n",
      "2        rqw uut\\tp        39        -117\n",
      "3            \\na\\na        36         -97\n",
      "4  f\\nv3\\n6a8qgd3ql        35        -119\n"
     ]
    }
   ],
   "source": [
    "print(restaurant.head())"
   ]
  },
  {
   "cell_type": "markdown",
   "id": "7db0ed55",
   "metadata": {},
   "source": [
    "Use haversine to calculate the distance."
   ]
  },
  {
   "cell_type": "code",
   "execution_count": 50,
   "id": "0942e8d0",
   "metadata": {},
   "outputs": [],
   "source": [
    "import haversine as hs\n",
    "distance = []\n",
    "for i, j in zip(restaurant['latitude'], restaurant['longtitude']):\n",
    "    location_1 = (i, j)\n",
    "    location_2 = (latitude, longtitude)\n",
    "    dis = hs.haversine(location_1, location_2)\n",
    "    distance.append(dis)\n",
    "\n",
    "restaurant['distance(km)'] = distance\n",
    "    "
   ]
  },
  {
   "cell_type": "code",
   "execution_count": 51,
   "id": "731a073c",
   "metadata": {},
   "outputs": [
    {
     "name": "stdout",
     "output_type": "stream",
     "text": [
      "               name  latitude  longtitude  distance(km)\n",
      "0     j7zfudlzkljfw        33         -95    856.299386\n",
      "1      bse4rn7935c1        30        -121   2282.620371\n",
      "2        rqw uut\\tp        39        -117   1545.776819\n",
      "3            \\na\\na        36         -97    478.021056\n",
      "4  f\\nv3\\n6a8qgd3ql        35        -119   1845.195326\n"
     ]
    }
   ],
   "source": [
    "print(restaurant.head())"
   ]
  },
  {
   "cell_type": "markdown",
   "id": "f2d5ed45",
   "metadata": {},
   "source": [
    "Return the 5 most near restaurants."
   ]
  },
  {
   "cell_type": "code",
   "execution_count": 53,
   "id": "efac1115",
   "metadata": {},
   "outputs": [],
   "source": [
    "restaurant = restaurant.sort_values(by = 'distance(km)')"
   ]
  },
  {
   "cell_type": "code",
   "execution_count": 54,
   "id": "cd77ae7f",
   "metadata": {},
   "outputs": [
    {
     "name": "stdout",
     "output_type": "stream",
     "text": [
      "                  name  latitude  longtitude  distance(km)\n",
      "972            zffcl5o        41         -98    139.688827\n",
      "683  rbr5gotg95cw3m4\\n        39         -98    140.447462\n",
      "533           7ltm7mr3        39        -100    140.447462\n",
      "243            gfhr094        40        -101    170.357173\n",
      "487      3 \\tecrwj4sho        41         -97    202.380626\n"
     ]
    }
   ],
   "source": [
    "print(restaurant.head())"
   ]
  },
  {
   "cell_type": "code",
   "execution_count": 55,
   "id": "ada5d7de",
   "metadata": {},
   "outputs": [],
   "source": [
    "rec_places = restaurant.head()"
   ]
  },
  {
   "cell_type": "code",
   "execution_count": 56,
   "id": "b73d18a0",
   "metadata": {},
   "outputs": [],
   "source": [
    "def rec_resaurants(latitude, longtitude, restaurant):\n",
    "    distance = []\n",
    "    for i, j in zip(restaurant['latitude'], restaurant['longtitude']):\n",
    "        location_1 = (i, j)\n",
    "        location_2 = (latitude, longtitude)\n",
    "        dis = hs.haversine(location_1, location_2)\n",
    "        distance.append(dis)\n",
    "\n",
    "    restaurant['distance(km)'] = distance\n",
    "    restaurant = restaurant.sort_values(by = 'distance(km)')\n",
    "    rec_places = restaurant.head()\n",
    "    return rec_places"
   ]
  },
  {
   "cell_type": "code",
   "execution_count": 57,
   "id": "4d620e5b",
   "metadata": {},
   "outputs": [],
   "source": [
    "rec_places1 = rec_resaurants(44, -109, restaurant)"
   ]
  },
  {
   "cell_type": "code",
   "execution_count": 58,
   "id": "7686cff5",
   "metadata": {},
   "outputs": [
    {
     "name": "stdout",
     "output_type": "stream",
     "text": [
      "              name  latitude  longtitude  distance(km)\n",
      "665       p84vavs8        44        -109      0.000000\n",
      "821   u16ajkml 11m        44        -108     79.986557\n",
      "128         s0ur l        44        -108     79.986557\n",
      "722   s390u03trsrt        43        -109    111.195080\n",
      "140  \\t2yh78denbmw        45        -109    111.195080\n"
     ]
    }
   ],
   "source": [
    "print(rec_places1)"
   ]
  },
  {
   "cell_type": "code",
   "execution_count": 59,
   "id": "63ca815a",
   "metadata": {},
   "outputs": [],
   "source": [
    "query = \"\"\"select name, latitude, longtitude, score\n",
    "           from restaurant r;\"\"\""
   ]
  },
  {
   "cell_type": "code",
   "execution_count": 60,
   "id": "678e3808",
   "metadata": {},
   "outputs": [],
   "source": [
    "results_1 = cursor.execute(query).fetchall()"
   ]
  },
  {
   "cell_type": "code",
   "execution_count": 61,
   "id": "78438569",
   "metadata": {},
   "outputs": [],
   "source": [
    "restaurant_new = pd.read_sql_query(query, sql_connect)"
   ]
  },
  {
   "cell_type": "code",
   "execution_count": 62,
   "id": "c898a1dc",
   "metadata": {},
   "outputs": [
    {
     "name": "stdout",
     "output_type": "stream",
     "text": [
      "               name  latitude  longtitude  score\n",
      "0     j7zfudlzkljfw        33         -95    2.3\n",
      "1      bse4rn7935c1        30        -121    4.5\n",
      "2        rqw uut\\tp        39        -117    2.0\n",
      "3            \\na\\na        36         -97    0.3\n",
      "4  f\\nv3\\n6a8qgd3ql        35        -119    0.2\n"
     ]
    }
   ],
   "source": [
    "print(restaurant_new.head())"
   ]
  },
  {
   "cell_type": "code",
   "execution_count": 63,
   "id": "afd25cde",
   "metadata": {},
   "outputs": [],
   "source": [
    "distance_new = []\n",
    "for i, j in zip(restaurant_new['latitude'], restaurant_new['longtitude']):\n",
    "    location_1 = (i, j)\n",
    "    location_2 = (latitude, longtitude)\n",
    "    dis = hs.haversine(location_1, location_2)\n",
    "    distance_new.append(dis)\n",
    "\n",
    "restaurant_new['distance(km)'] = distance"
   ]
  },
  {
   "cell_type": "code",
   "execution_count": 65,
   "id": "5a0bb31e",
   "metadata": {},
   "outputs": [],
   "source": [
    "high_score = restaurant_new[restaurant_new['score']>3.5]"
   ]
  },
  {
   "cell_type": "code",
   "execution_count": 66,
   "id": "14653b66",
   "metadata": {},
   "outputs": [
    {
     "name": "stdout",
     "output_type": "stream",
     "text": [
      "                      name  latitude  longtitude  score  distance(km)\n",
      "1             bse4rn7935c1        30        -121    4.5   2282.620371\n",
      "9                  umunp4l        38         -89    4.2    891.758050\n",
      "11          2h6udo\\na5cp80        46         -96    4.7    710.235505\n",
      "13              wu4ysv9syx        32         -92    4.2   1089.044075\n",
      "15                  qmhlc8        36         -99    4.6    444.780321\n",
      "..                     ...       ...         ...    ...           ...\n",
      "984   coi7qs4mz08k7lq030ni        47         -93    3.8    915.902932\n",
      "996            sfy zbgbu\\t        27         -79    5.0   2341.722390\n",
      "997     qilladi4 64zdqz6b8        26        -113    4.9   2026.363823\n",
      "998  jhiy4jl6mjyd0y8u w3\\t        42        -102    4.2    335.876776\n",
      "999     zsh\\npu106cgqol4vr        34        -118    4.6   1809.832049\n",
      "\n",
      "[303 rows x 5 columns]\n"
     ]
    }
   ],
   "source": [
    "print(high_score)"
   ]
  },
  {
   "cell_type": "code",
   "execution_count": 67,
   "id": "821d7969",
   "metadata": {},
   "outputs": [],
   "source": [
    "high_score = high_score.sort_values(by = 'distance(km)')"
   ]
  },
  {
   "cell_type": "code",
   "execution_count": 68,
   "id": "2f13197b",
   "metadata": {},
   "outputs": [],
   "source": [
    "rec_places2 = high_score.head()"
   ]
  },
  {
   "cell_type": "code",
   "execution_count": 71,
   "id": "b83e6850",
   "metadata": {},
   "outputs": [],
   "source": [
    "if len(rec_places2) == 0:\n",
    "    print(\"Please change your score criterion.\")"
   ]
  },
  {
   "cell_type": "code",
   "execution_count": 72,
   "id": "71c2a5fb",
   "metadata": {},
   "outputs": [
    {
     "name": "stdout",
     "output_type": "stream",
     "text": [
      "                  name  latitude  longtitude  score  distance(km)\n",
      "972            zffcl5o        41         -98    4.3    139.688827\n",
      "243            gfhr094        40        -101    4.9    170.357173\n",
      "129   91me9czam\\tirc9w        41        -101    4.1    202.380626\n",
      "27                12g1        41         -97    4.2    202.380626\n",
      "403   cdy9l08u2v1vfdxr        38        -100    4.5    238.584529\n"
     ]
    }
   ],
   "source": [
    "print(rec_places2)"
   ]
  },
  {
   "cell_type": "code",
   "execution_count": 76,
   "id": "b180a9e1",
   "metadata": {},
   "outputs": [],
   "source": [
    "def rec_resaurants_2(latitude, longtitude, restaurant, input_score):\n",
    "    distance = []\n",
    "    for i, j in zip(restaurant['latitude'], restaurant['longtitude']):\n",
    "        location_1 = (i, j)\n",
    "        location_2 = (latitude, longtitude)\n",
    "        dis = hs.haversine(location_1, location_2)\n",
    "        distance.append(dis)\n",
    "\n",
    "    restaurant['distance(km)'] = distance\n",
    "    restaurant = restaurant.sort_values(by = 'distance(km)')\n",
    "    high_score = restaurant[restaurant['score']>input_score]\n",
    "    rec_places = high_score.head()\n",
    "    if len(rec_places) == 0:\n",
    "        return \"Please change your score criterion.\"\n",
    "    else:\n",
    "        return rec_places\n",
    "    "
   ]
  },
  {
   "cell_type": "code",
   "execution_count": 77,
   "id": "5c29f36f",
   "metadata": {},
   "outputs": [],
   "source": [
    "rec_places_2 = rec_resaurants_2(latitude, longtitude, restaurant_new, 3.5)"
   ]
  },
  {
   "cell_type": "code",
   "execution_count": 78,
   "id": "76677bb9",
   "metadata": {},
   "outputs": [
    {
     "name": "stdout",
     "output_type": "stream",
     "text": [
      "                 name  latitude  longtitude  score  distance(km)\n",
      "972           zffcl5o        41         -98    4.3    139.688827\n",
      "243           gfhr094        40        -101    4.9    170.357173\n",
      "129  91me9czam\\tirc9w        41        -101    4.1    202.380626\n",
      "27               12g1        41         -97    4.2    202.380626\n",
      "687     hcnaquqz1g1ut        38        -100    5.0    238.584529\n"
     ]
    }
   ],
   "source": [
    "print(rec_places_2)"
   ]
  },
  {
   "cell_type": "code",
   "execution_count": 87,
   "id": "13e2703e",
   "metadata": {},
   "outputs": [],
   "source": [
    "def rec_resaurants_3(latitude, longtitude, restaurant, input_score, area_x, area_y):\n",
    "    distance = []\n",
    "    for i, j in zip(restaurant['latitude'], restaurant['longtitude']):\n",
    "        location_1 = (i, j)\n",
    "        location_2 = (latitude, longtitude)\n",
    "        dis = hs.haversine(location_1, location_2)\n",
    "        distance.append(dis)\n",
    "\n",
    "    restaurant['distance(km)'] = distance\n",
    "    restaurant = restaurant.sort_values(by = 'distance(km)')\n",
    "    area_places_l = restaurant[(restaurant['latitude'] < latitude+area_x) & (restaurant['latitude'] > latitude-area_x)]\n",
    "    area_places = area_places_l[(area_places_l['longtitude'] < longtitude+area_y) & (area_places_l['longtitude'] > longtitude-area_y)]\n",
    "    high_score = area_places[area_places['score']>input_score]\n",
    "    rec_places = high_score.head()\n",
    "    if len(rec_places) == 0:\n",
    "        return \"Please change your score criterion.\"\n",
    "    else:\n",
    "        return rec_places"
   ]
  },
  {
   "cell_type": "code",
   "execution_count": 88,
   "id": "c5f199c3",
   "metadata": {},
   "outputs": [],
   "source": [
    "rec_places_3 = rec_resaurants_3(latitude, longtitude, restaurant_new, 3.5, 3, 3)"
   ]
  },
  {
   "cell_type": "code",
   "execution_count": 89,
   "id": "0ea417d9",
   "metadata": {},
   "outputs": [
    {
     "name": "stdout",
     "output_type": "stream",
     "text": [
      "                 name  latitude  longtitude  score  distance(km)\n",
      "972           zffcl5o        41         -98    4.3    139.688827\n",
      "243           gfhr094        40        -101    4.9    170.357173\n",
      "129  91me9czam\\tirc9w        41        -101    4.1    202.380626\n",
      "27               12g1        41         -97    4.2    202.380626\n",
      "687     hcnaquqz1g1ut        38        -100    5.0    238.584529\n"
     ]
    }
   ],
   "source": [
    "print(rec_places_3)"
   ]
  },
  {
   "cell_type": "code",
   "execution_count": null,
   "id": "eb2ee7b5",
   "metadata": {},
   "outputs": [],
   "source": []
  },
  {
   "cell_type": "code",
   "execution_count": null,
   "id": "7821ce28",
   "metadata": {},
   "outputs": [],
   "source": []
  }
 ],
 "metadata": {
  "kernelspec": {
   "display_name": "Python 3 (ipykernel)",
   "language": "python",
   "name": "python3"
  },
  "language_info": {
   "codemirror_mode": {
    "name": "ipython",
    "version": 3
   },
   "file_extension": ".py",
   "mimetype": "text/x-python",
   "name": "python",
   "nbconvert_exporter": "python",
   "pygments_lexer": "ipython3",
   "version": "3.10.2"
  }
 },
 "nbformat": 4,
 "nbformat_minor": 5
}

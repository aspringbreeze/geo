{
 "cells": [
  {
   "cell_type": "code",
   "execution_count": 1,
   "id": "be5e01f4",
   "metadata": {},
   "outputs": [],
   "source": [
    "import sqlite3\n",
    "import pandas as pd"
   ]
  },
  {
   "cell_type": "code",
   "execution_count": 2,
   "id": "0a124ab3",
   "metadata": {},
   "outputs": [],
   "source": [
    "sql_connect = sqlite3.connect('geo_project.db')"
   ]
  },
  {
   "cell_type": "code",
   "execution_count": 3,
   "id": "135d65d9",
   "metadata": {},
   "outputs": [],
   "source": [
    "cursor = sql_connect.cursor()"
   ]
  },
  {
   "cell_type": "code",
   "execution_count": 15,
   "id": "b439693e",
   "metadata": {},
   "outputs": [
    {
     "name": "stdout",
     "output_type": "stream",
     "text": [
      "Enter the x location: 0\n",
      "Enter the y location: 0\n"
     ]
    }
   ],
   "source": [
    "x = int(input(\"Enter the x location: \"))\n",
    "y = int(input(\"Enter the y location: \"))"
   ]
  },
  {
   "cell_type": "code",
   "execution_count": 16,
   "id": "fdb1b19e",
   "metadata": {},
   "outputs": [],
   "source": [
    "query = f\"\"\"select name, sqrt(pow(({y} - r.locate_y), 2) + pow(({x} - r.locate_x), 2)) as distance\n",
    "           from restaurant r\n",
    "           order by distance\n",
    "           limit 5;\"\"\""
   ]
  },
  {
   "cell_type": "code",
   "execution_count": 17,
   "id": "49f7a7d0",
   "metadata": {},
   "outputs": [],
   "source": [
    "results = cursor.execute(query).fetchall()"
   ]
  },
  {
   "cell_type": "code",
   "execution_count": 13,
   "id": "8dd93580",
   "metadata": {},
   "outputs": [
    {
     "name": "stdout",
     "output_type": "stream",
     "text": [
      "[('nnx742ne8mzlopa', 26.40075756488817), ('fdxca', 29.068883707497267), ('m2m4bq8', 29.154759474226502), ('m6n uk', 33.24154027718932), ('d7vp5bjsc3k75mtz40qu', 42.15447781671598)]\n"
     ]
    }
   ],
   "source": [
    "print(results)"
   ]
  },
  {
   "cell_type": "code",
   "execution_count": 18,
   "id": "757922a3",
   "metadata": {},
   "outputs": [
    {
     "data": {
      "text/html": [
       "<div>\n",
       "<style scoped>\n",
       "    .dataframe tbody tr th:only-of-type {\n",
       "        vertical-align: middle;\n",
       "    }\n",
       "\n",
       "    .dataframe tbody tr th {\n",
       "        vertical-align: top;\n",
       "    }\n",
       "\n",
       "    .dataframe thead th {\n",
       "        text-align: right;\n",
       "    }\n",
       "</style>\n",
       "<table border=\"1\" class=\"dataframe\">\n",
       "  <thead>\n",
       "    <tr style=\"text-align: right;\">\n",
       "      <th></th>\n",
       "      <th>name</th>\n",
       "      <th>distance</th>\n",
       "    </tr>\n",
       "  </thead>\n",
       "  <tbody>\n",
       "    <tr>\n",
       "      <th>0</th>\n",
       "      <td>3 fmltfha\\n6rc</td>\n",
       "      <td>37.735925</td>\n",
       "    </tr>\n",
       "    <tr>\n",
       "      <th>1</th>\n",
       "      <td>iy\\nivxr539ij</td>\n",
       "      <td>42.941821</td>\n",
       "    </tr>\n",
       "    <tr>\n",
       "      <th>2</th>\n",
       "      <td>\\tfhbzm\\t k6yn2iw2bj</td>\n",
       "      <td>48.414874</td>\n",
       "    </tr>\n",
       "    <tr>\n",
       "      <th>3</th>\n",
       "      <td>d7vp5bjsc3k75mtz40qu</td>\n",
       "      <td>55.154329</td>\n",
       "    </tr>\n",
       "    <tr>\n",
       "      <th>4</th>\n",
       "      <td>h0g4c6q5hb2\\n3</td>\n",
       "      <td>61.846584</td>\n",
       "    </tr>\n",
       "  </tbody>\n",
       "</table>\n",
       "</div>"
      ],
      "text/plain": [
       "                   name   distance\n",
       "0        3 fmltfha\\n6rc  37.735925\n",
       "1         iy\\nivxr539ij  42.941821\n",
       "2  \\tfhbzm\\t k6yn2iw2bj  48.414874\n",
       "3  d7vp5bjsc3k75mtz40qu  55.154329\n",
       "4        h0g4c6q5hb2\\n3  61.846584"
      ]
     },
     "execution_count": 18,
     "metadata": {},
     "output_type": "execute_result"
    }
   ],
   "source": [
    "pd.read_sql_query(query, sql_connect)"
   ]
  },
  {
   "cell_type": "code",
   "execution_count": null,
   "id": "05ce30e0",
   "metadata": {},
   "outputs": [],
   "source": []
  },
  {
   "cell_type": "code",
   "execution_count": null,
   "id": "a48d64ef",
   "metadata": {},
   "outputs": [],
   "source": []
  },
  {
   "cell_type": "code",
   "execution_count": null,
   "id": "e1b32b84",
   "metadata": {},
   "outputs": [],
   "source": []
  },
  {
   "cell_type": "code",
   "execution_count": null,
   "id": "b73d18a0",
   "metadata": {},
   "outputs": [],
   "source": []
  }
 ],
 "metadata": {
  "kernelspec": {
   "display_name": "Python 3 (ipykernel)",
   "language": "python",
   "name": "python3"
  },
  "language_info": {
   "codemirror_mode": {
    "name": "ipython",
    "version": 3
   },
   "file_extension": ".py",
   "mimetype": "text/x-python",
   "name": "python",
   "nbconvert_exporter": "python",
   "pygments_lexer": "ipython3",
   "version": "3.10.2"
  }
 },
 "nbformat": 4,
 "nbformat_minor": 5
}
